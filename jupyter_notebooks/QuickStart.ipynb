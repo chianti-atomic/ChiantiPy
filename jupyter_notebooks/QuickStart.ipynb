{
 "cells": [
  {
   "cell_type": "markdown",
   "metadata": {},
   "source": [
    "# a quick-start notebook for ChiantiPy"
   ]
  },
  {
   "cell_type": "markdown",
   "metadata": {},
   "source": [
    "## similar to the quick-start guide in the online documentation"
   ]
  },
  {
   "cell_type": "code",
   "execution_count": null,
   "metadata": {},
   "outputs": [],
   "source": [
    "import os"
   ]
  },
  {
   "cell_type": "code",
   "execution_count": null,
   "metadata": {},
   "outputs": [],
   "source": [
    "os.environ['XUVTOP']"
   ]
  },
  {
   "cell_type": "markdown",
   "metadata": {},
   "source": [
    "This short tutorial will demonstrate some of the capabilities of ChiantiPy and the CHIANTI database. \n",
    "It assumes that you know what the CHIANTI database provides and why you want to use it. \n",
    "The current implementation uses Version 0.6.4 of ChiantiPy and version 8.0 of the CHIANTI database and mainly provides access to methods concerned with single ions. An ion such as Fe XIV is specified by the string ‘fe_14’, in the usual CHIANTI notation.\n",
    "\n",
    "Bring up a Jupyter notebook\n",
    "\n",
    "    > jupyter notebook\n",
    "\n",
    "It is easiest to do this in the directory where the notebook (.ipynb) resides.\n",
    "\n",
    "Once you open QuickStart.ipynb in the browser window, you will see something like this.\n",
    "\n",
    "In my Ipython 00-setup.py file I have already performed"
   ]
  },
  {
   "cell_type": "code",
   "execution_count": null,
   "metadata": {},
   "outputs": [],
   "source": [
    "import ChiantiPy\n",
    "import ChiantiPy.core as ch\n",
    "import ChiantiPy.tools.filters as chfilters\n",
    "import ChiantiPy.tools.io as chio\n",
    "import ChiantiPy.tools.data as chdata\n",
    "import numpy as np\n",
    "import matplotlib as mpl\n",
    "import matplotlib.pyplot as plt"
   ]
  },
  {
   "cell_type": "code",
   "execution_count": null,
   "metadata": {},
   "outputs": [],
   "source": [
    "matplotlib qt"
   ]
  },
  {
   "cell_type": "code",
   "execution_count": null,
   "metadata": {},
   "outputs": [],
   "source": [
    "autoreload 3"
   ]
  },
  {
   "cell_type": "code",
   "execution_count": null,
   "metadata": {},
   "outputs": [],
   "source": [
    "ChiantiPy.__version__"
   ]
  },
  {
   "cell_type": "code",
   "execution_count": null,
   "metadata": {},
   "outputs": [],
   "source": [
    "import IPython\n",
    "print(' IPython version = %i.%i.%i'%(IPython.version_info[0],IPython.version_info[1],IPython.version_info[2]))"
   ]
  },
  {
   "cell_type": "markdown",
   "metadata": {},
   "source": [
    "It is useful to open a qtconsole where are the calculations can be easily examined"
   ]
  },
  {
   "cell_type": "markdown",
   "metadata": {},
   "source": [
    "## if you have ipyparallel installed it is necessary to do the following before opening a qtconsole"
   ]
  },
  {
   "cell_type": "code",
   "execution_count": null,
   "metadata": {},
   "outputs": [],
   "source": [
    "import ipyparallel\n",
    "ipyparallel.bind_kernel = lambda : None"
   ]
  },
  {
   "cell_type": "code",
   "execution_count": null,
   "metadata": {},
   "outputs": [],
   "source": [
    "qtconsole"
   ]
  },
  {
   "cell_type": "code",
   "execution_count": null,
   "metadata": {},
   "outputs": [],
   "source": [
    "chianti_version = chio.versionRead()"
   ]
  },
  {
   "cell_type": "code",
   "execution_count": null,
   "metadata": {},
   "outputs": [],
   "source": [
    "chianti_version"
   ]
  },
  {
   "cell_type": "markdown",
   "metadata": {},
   "source": [
    "# setting default values"
   ]
  },
  {
   "cell_type": "markdown",
   "metadata": {},
   "source": [
    "### ChiantiPy determines a number of default setting on instantiation. Without doing anything, the default values\n",
    "\n",
    "### listed below will be used,"
   ]
  },
  {
   "cell_type": "markdown",
   "metadata": {},
   "source": [
    "| **setting**     |**default**                     | **possible values**      |\n",
    "---------- | --------------------------- | ---------------------|\n",
    "|wavelength | angstrom                    | angstrom, nm, ev, kev|\n",
    "|flux       | energy                      | energy, photon       |\n",
    "|abundfile  | sun_photospheric_2015_scott | any.abund            |\n",
    "|ioneqfile  | chianti                     | any.ioneq            |"
   ]
  },
  {
   "cell_type": "markdown",
   "metadata": {},
   "source": [
    "### to use any of the other possible values, check out the notes/setting_default_values in the documentation"
   ]
  },
  {
   "cell_type": "markdown",
   "metadata": {},
   "source": [
    "the defaults can be checked"
   ]
  },
  {
   "cell_type": "code",
   "execution_count": null,
   "metadata": {},
   "outputs": [],
   "source": [
    "chdata.Defaults.keys()"
   ]
  },
  {
   "cell_type": "code",
   "execution_count": null,
   "metadata": {},
   "outputs": [],
   "source": [
    "chdata.Defaults['wavelength']"
   ]
  },
  {
   "cell_type": "markdown",
   "metadata": {},
   "source": [
    "## setting some matplot parameters for pretty plotting"
   ]
  },
  {
   "cell_type": "code",
   "execution_count": null,
   "metadata": {},
   "outputs": [],
   "source": [
    "mpl.rcParams['xtick.labelsize'] = 16\n",
    "mpl.rcParams['ytick.labelsize'] = 16\n",
    "mpl.rcParams['axes.labelsize'] = 16\n",
    "mpl.rcParams['axes.linewidth'] = 1.5"
   ]
  },
  {
   "cell_type": "markdown",
   "metadata": {},
   "source": [
    "Level populations\n",
    "================="
   ]
  },
  {
   "cell_type": "markdown",
   "metadata": {},
   "source": [
    "As a start, we will examine the various properties of the Fe XIV emissivities as a function of temperature and density. So, let’s define a numpy array of temperatures and a value for the electron density"
   ]
  },
  {
   "cell_type": "code",
   "execution_count": null,
   "metadata": {},
   "outputs": [],
   "source": [
    "temp = 10.**(5.8 + 0.05*np.arange(21.))\n",
    "edens = 1.e+9"
   ]
  },
  {
   "cell_type": "markdown",
   "metadata": {},
   "source": [
    "In ChiantiPy, temperatures are currently given in degrees Kelvin and densities as the number electron density per cubic cm. Then, construct fe14 as would be typically done"
   ]
  },
  {
   "cell_type": "code",
   "execution_count": null,
   "metadata": {},
   "outputs": [],
   "source": [
    "fe14 = ch.ion('fe_14', temperature=temp, eDensity=edens, em=1.e+27)"
   ]
  },
  {
   "cell_type": "markdown",
   "metadata": {},
   "source": [
    "alternately, since **temperature** and **eDensity** are the first keyword arguments\n",
    "fe14 = ch.ion('fe_14', temp, edens)"
   ]
  },
  {
   "cell_type": "code",
   "execution_count": null,
   "metadata": {},
   "outputs": [],
   "source": [
    "fe14.popPlot(addLegend=False)"
   ]
  },
  {
   "cell_type": "markdown",
   "metadata": {},
   "source": [
    "produces a matplotlib plot window were the population of the top 10 (the default) levels are plotted as a function of temperature.\n",
    "\n",
    "If the level populations had not already been calculated, popPlot() would have invoked the populate() method which calculates the level populations and stores them in the Population dictionary, with keys = [‘protonDensity’, ‘population’, ‘temperature’, ‘density’].\n",
    "\n",
    "The populations vs. temperature is not particularly interesting.  Plotting them vs. density is more interesting and will come latere"
   ]
  },
  {
   "cell_type": "markdown",
   "metadata": {},
   "source": [
    "A ChiantiPy Convention\n",
    "======================\n",
    "\n",
    "Classes and function of ChiantiPy start with lower case letters. \n",
    "----------------------------------------------------------------\n",
    "\n",
    "Data attached to the instantiation of a class will start with a capital letter. For example,\n",
    "--------------------------------------------------------------------------------------------\n",
    "\n",
    "fe14.populate() creates fe14.Population containing the level population information\n",
    "\n",
    "fe14.emiss() creates fe14.Emiss containing the line emissivity information\n",
    "\n",
    "fe14.intensity() creates fe14.Intensity containing the line intensity information that includes the elemental abundance and the ionization equilibrium\n",
    "\n",
    "fe14.spectrum() creates fe14.Spectrum contain the line and continuum spectrum information"
   ]
  },
  {
   "cell_type": "markdown",
   "metadata": {},
   "source": [
    "# Attributes of an ion"
   ]
  },
  {
   "cell_type": "raw",
   "metadata": {},
   "source": [
    "It is possible to find some of the properties of an ion by examining its attributes"
   ]
  },
  {
   "cell_type": "code",
   "execution_count": null,
   "metadata": {},
   "outputs": [],
   "source": [
    "fe12 = ch.ion('fe_12', setup = False)"
   ]
  },
  {
   "cell_type": "markdown",
   "metadata": {},
   "source": [
    "a list of attributes can be found using dir(), but this is kind of messy.  A list is provided below"
   ]
  },
  {
   "cell_type": "markdown",
   "metadata": {},
   "source": [
    "* AbundAll\n",
    "* Abundance\n",
    "* Defaults\n",
    "* Dielectronic\n",
    "* FIP\n",
    "* FileName\n",
    "* GrndLevels\n",
    "* HigherName\n",
    "* Ion\n",
    "* IonStr\n",
    "* Ip\n",
    "* Iso\n",
    "* Labels\n",
    "* RStar\n",
    "* RadTemperature\n",
    "* Spectroscopic\n",
    "* Z"
   ]
  },
  {
   "cell_type": "code",
   "execution_count": null,
   "metadata": {},
   "outputs": [],
   "source": [
    "print('nuclear charge:  %i'%(fe12.Z))"
   ]
  },
  {
   "cell_type": "code",
   "execution_count": null,
   "metadata": {},
   "outputs": [],
   "source": [
    "print('ionization potential   %6.2f  eV'%(fe12.Ip))"
   ]
  },
  {
   "cell_type": "code",
   "execution_count": null,
   "metadata": {},
   "outputs": [],
   "source": [
    "print('isoelectronic sequence %i, the number of electrons'%(fe12.Iso))"
   ]
  },
  {
   "cell_type": "markdown",
   "metadata": {},
   "source": [
    "Spectral Line Intensities\n",
    "========================="
   ]
  },
  {
   "cell_type": "code",
   "execution_count": null,
   "metadata": {},
   "outputs": [],
   "source": [
    "fe14.intensity()\n",
    "for akey in sorted(fe14.Intensity):\n",
    "    print('%10s'%(akey))"
   ]
  },
  {
   "cell_type": "markdown",
   "metadata": {},
   "source": [
    "the units for line intensities, the key **intensity**, are erg cm$^{-2}$ s$^{-1}$ sr$^{-1}$ / $\\int N_e N_H d\\ell $, if the emission meassure **em** *not* unspecified"
   ]
  },
  {
   "cell_type": "code",
   "execution_count": null,
   "metadata": {},
   "outputs": [],
   "source": [
    "fe14.intensityPlot(wvlRange=[210.,220.])"
   ]
  },
  {
   "cell_type": "code",
   "execution_count": null,
   "metadata": {},
   "outputs": [],
   "source": [
    "fe14.intensityPlot(index=11, wvlRange=[210.,220.])"
   ]
  },
  {
   "cell_type": "code",
   "execution_count": null,
   "metadata": {},
   "outputs": [],
   "source": [
    "fe14.intensityPlot(index=10, wvlRange=[210.,220.], relative=True, doTitle=False, lw=2)"
   ]
  },
  {
   "cell_type": "code",
   "execution_count": null,
   "metadata": {},
   "outputs": [],
   "source": [
    "fe14.intensityList(wvlRange=[210.,220.])"
   ]
  },
  {
   "cell_type": "markdown",
   "metadata": {},
   "source": [
    "here, we have used the default value for the keyword argument **top** which specified how many of the most intense lines to list.  Also, **index** can be specified to give a different temperature, and **relative** can be set to 1 give relative emissivities"
   ]
  },
  {
   "cell_type": "code",
   "execution_count": null,
   "metadata": {},
   "outputs": [],
   "source": [
    "fe14.intensityList(wvlRange=[210.,220.], relative=1, index=11)"
   ]
  },
  {
   "cell_type": "markdown",
   "metadata": {},
   "source": [
    "optionally, an output file could also be created by setting the keyword **outFile** to the name of the desired name"
   ]
  },
  {
   "cell_type": "markdown",
   "metadata": {},
   "source": [
    "The effect of electron density in line intensities\n",
    "----------------------------------------------------"
   ]
  },
  {
   "cell_type": "code",
   "execution_count": null,
   "metadata": {},
   "outputs": [],
   "source": [
    "temp = 2.e+6\n",
    "dens = 10.**(6. + 0.1*np.arange(61))\n",
    "fe14 = ch.ion('fe_14', temp, dens)\n",
    "fe14.popPlot()"
   ]
  },
  {
   "cell_type": "markdown",
   "metadata": {},
   "source": [
    "a plot of the population of the top 10 levels is produced as a function of the electron density"
   ]
  },
  {
   "cell_type": "code",
   "execution_count": null,
   "metadata": {},
   "outputs": [],
   "source": [
    "fe14.intensityRatio(wvlRange=[210.,220.])"
   ]
  },
  {
   "cell_type": "markdown",
   "metadata": {},
   "source": [
    "to obtain ratios of lines widely separated in wavelength, the **wvlRanges** keyword can be used"
   ]
  },
  {
   "cell_type": "code",
   "execution_count": null,
   "metadata": {},
   "outputs": [],
   "source": [
    "temp = 10.**(5.8 + 0.05*np.arange(21.))\n",
    "edens = 1.e+9\n",
    "fe12 = ch.ion('fe_12', temperature=temp, eDensity=edens)\n",
    "fe12.intensityRatio(wvlRanges=[[190.,200.],[1240.,1250.]])"
   ]
  },
  {
   "cell_type": "markdown",
   "metadata": {},
   "source": [
    "the most recently calculated intensity ratio is stored in fe14.IntensityRatio, with the following keys:"
   ]
  },
  {
   "cell_type": "code",
   "execution_count": null,
   "metadata": {},
   "outputs": [],
   "source": [
    "for akey in sorted(fe14.IntensityRatio):\n",
    "    print('%10s'%(akey))"
   ]
  },
  {
   "cell_type": "markdown",
   "metadata": {},
   "source": [
    "G(n,T) function or G(T)\n",
    "=======================\n",
    "\n",
    "When G(n,T), for specific spectral line, is multiplied by the line of sight **emission measure**, $\\int$ n$_e$ n_$H$ d $\\ell$, it provides the predicted value of the line intensity in units of erg cm$^{-2}$ s$^{-1}$ sr$^{-1}$, if the value for **flux** in the** Defaults** is set to **energy** (the default value).  If **flux** is set to photon, the intensity is given in units of\n",
    "\n",
    "\n",
    "photons cm$^{-2}$ s$^{-1}$ sr$^{-1}$.\n",
    "\n",
    "A **chiantirc** file is included with the ChiantiPy distribution. If it is placed in $HOME/.chianti it will be read when ChiantiPy is initiated.  Editing this file allows you to specify the values of **flux** that you want and other things such as the set of elemental abundances and the ionization equilibrium."
   ]
  },
  {
   "cell_type": "code",
   "execution_count": null,
   "metadata": {},
   "outputs": [],
   "source": [
    "temp = 10.**(5.8 + 0.05*np.arange(21.))\n",
    "dens = 1.e+9\n",
    "fe14 = ch.ion('fe_14', temp, dens)"
   ]
  },
  {
   "cell_type": "code",
   "execution_count": null,
   "metadata": {},
   "outputs": [],
   "source": [
    "fe14.gofnt(wvlRange=[210., 220.],top=3)"
   ]
  },
  {
   "cell_type": "markdown",
   "metadata": {},
   "source": [
    "this brings up a plot of relative line ratios vs temperature and a single selection widget, similar to the intensityRatio process.  Multiple lines can be selected with the *control* key and their G(T) functions will summed."
   ]
  },
  {
   "cell_type": "markdown",
   "metadata": {},
   "source": [
    "The **g(n,T)** calculation is stored in the **Gofnt** dictionary, with keys"
   ]
  },
  {
   "cell_type": "code",
   "execution_count": null,
   "metadata": {},
   "outputs": [],
   "source": [
    "sorted(fe14.Gofnt.keys())"
   ]
  },
  {
   "cell_type": "code",
   "execution_count": null,
   "metadata": {},
   "outputs": [],
   "source": [
    "fe14.Gofnt['wvl']"
   ]
  },
  {
   "cell_type": "markdown",
   "metadata": {},
   "source": [
    "while this is a fairly straightforward way to get a G(T) function, it is not very practical to use for a more than a handful of lines.  For if the fe_14 line at 211.3172 is in a list of lines to be analyzed, a more practical way is the following"
   ]
  },
  {
   "cell_type": "code",
   "execution_count": null,
   "metadata": {},
   "outputs": [],
   "source": [
    "fe14.intensity()\n",
    "dist = np.abs(np.asarray(fe14.Intensity['wvl']) - 211.3172)\n",
    "idx = np.argmin(dist)\n",
    "print(' wvl = %10.3f '%(fe14.Intensity['wvl'][idx]))"
   ]
  },
  {
   "cell_type": "code",
   "execution_count": null,
   "metadata": {},
   "outputs": [],
   "source": [
    "plt.loglog(temp,fe14.Intensity['intensity'][:,idx], 'k')"
   ]
  },
  {
   "cell_type": "markdown",
   "metadata": {},
   "source": [
    "once the axes are properly scaled, this produces the same values as fe14.Gofnt['gofnt']"
   ]
  },
  {
   "cell_type": "markdown",
   "metadata": {},
   "source": [
    "# Ionization Equilibrium"
   ]
  },
  {
   "cell_type": "markdown",
   "metadata": {},
   "source": [
    "For the Fe XIV example, the temperature was chosen to center around 2.e+6. It was not immediately apparent why this was done but in most of the following examples it is necessary to pick an appropriate temperature. This can be done with the ioneq class. To look at the ionization equilibrium for the iron ions (Z = 26, or ‘fe’)"
   ]
  },
  {
   "cell_type": "code",
   "execution_count": null,
   "metadata": {},
   "outputs": [],
   "source": [
    "fe = ch.ioneq(26)\n",
    "fe.load()\n",
    "fe.plot()\n",
    "plt.tight_layout()"
   ]
  },
  {
   "cell_type": "markdown",
   "metadata": {},
   "source": [
    "brings up a plot showing the ionization equilibrium for all of the stages of iron as a function of temperature"
   ]
  },
  {
   "cell_type": "markdown",
   "metadata": {},
   "source": [
    "This is pretty crowded and we are only interested in Fe XIV (fe_14), so"
   ]
  },
  {
   "cell_type": "code",
   "execution_count": null,
   "metadata": {},
   "outputs": [],
   "source": [
    "plt.figure()\n",
    "fe.plot(stages=[13,14,15],tRange=[1.e+6, 6.e+6], yr = [1.e-2, 0.4])\n",
    "plt.tight_layout()"
   ]
  },
  {
   "cell_type": "markdown",
   "metadata": {},
   "source": [
    "produces a plot of the ionization equilibria of Fe XIII, XIV and XV over a limited temperature range (tRange) and vertical range (yr)"
   ]
  },
  {
   "cell_type": "markdown",
   "metadata": {},
   "source": [
    "## Calculating a New Ionization Equilibrium"
   ]
  },
  {
   "cell_type": "markdown",
   "metadata": {},
   "source": [
    "The ionization equilibrium file in the CHIANTI distribution (chianti.ioneq) is calculated in the low-density limit for 121 temperatures\n",
    "between 10$^4$ and 10$^9$ K.  For example, if you are interested in temperatures below 10$^4$ K, it is possible to use the ioneqMake\n",
    "functions."
   ]
  },
  {
   "cell_type": "code",
   "execution_count": null,
   "metadata": {},
   "outputs": [],
   "source": [
    "temp = np.logspace(3.5, 5.0, 16)\n",
    "filename = 'my.ioneq'\n",
    "directory = os.path.join(os.environ['XUVTOP'], 'ioneq')\n",
    "reference = ['myself', '2025']\n",
    "ch.Ioneq.ioneqMake(temperature = temp, filename = filename, directory = directory, reference = reference)"
   ]
  },
  {
   "cell_type": "markdown",
   "metadata": {},
   "source": [
    "places a new ionization equilibrium file ( my.ioneq ) is placed in the standard CHIANTI directory for ionization equilibrium.\n",
    "The only required keyword argument is the filename.  If the directory is not specified, the new ioneq file is placed in your home directory.\n",
    "This calculates the ionization equilibrium for all ions from H through Zn.\n",
    "\n",
    "the new ioneq file can be plotted as just above:"
   ]
  },
  {
   "cell_type": "code",
   "execution_count": null,
   "metadata": {},
   "outputs": [],
   "source": [
    "plt.figure(layout = 'tight')\n",
    "carbon = ch.ioneq(6)\n",
    "carbon.load('my.ioneq')\n",
    "carbon.plot(tRange = [3.e+3, 1.e+5])\n",
    "plt.tight_layout()"
   ]
  },
  {
   "cell_type": "markdown",
   "metadata": {},
   "source": [
    "Intensity Ratios\n",
    "================"
   ]
  },
  {
   "cell_type": "code",
   "execution_count": null,
   "metadata": {},
   "outputs": [],
   "source": [
    "temp = 10.**(5.8 + 0.05*np.arange(21.))\n",
    "dens = 1.e+9"
   ]
  },
  {
   "cell_type": "code",
   "execution_count": null,
   "metadata": {},
   "outputs": [],
   "source": [
    "fe14 = ch.ion('fe_14', temperature = temp, eDensity = dens)"
   ]
  },
  {
   "cell_type": "code",
   "execution_count": null,
   "metadata": {},
   "outputs": [],
   "source": [
    "fe14.intensityRatio(wvlRange=[210., 225.])"
   ]
  },
  {
   "cell_type": "markdown",
   "metadata": {},
   "source": [
    "this brings up a plot showing the relative emissivities on the top 10 Fe XIV lines\n",
    "followed by a dialog where you can selector the numerator(s) and denominator(s) of the desired intensity ratio\n",
    "so the specified ratio is then plotted\n",
    "the intensityRatio as a function of temperature and density can be saved to a text file with the following"
   ]
  },
  {
   "cell_type": "code",
   "execution_count": null,
   "metadata": {},
   "outputs": [],
   "source": [
    "fe14.intensityRatioSave()"
   ]
  },
  {
   "cell_type": "code",
   "execution_count": null,
   "metadata": {},
   "outputs": [],
   "source": [
    "fe14.intensityRatioSave(outFile='myratio.txt')"
   ]
  },
  {
   "cell_type": "markdown",
   "metadata": {},
   "source": [
    "saves the ratio to the ascii file 'myratio.txt'"
   ]
  },
  {
   "cell_type": "markdown",
   "metadata": {},
   "source": [
    "or, the intensity ratio as a function of electron density"
   ]
  },
  {
   "cell_type": "code",
   "execution_count": null,
   "metadata": {},
   "outputs": [],
   "source": [
    "temp = 2.e+6\n",
    "dens = 10.**(6. + 0.1*np.arange(61))\n",
    "fe14 = ch.ion('fe_14', temp, dens)"
   ]
  },
  {
   "cell_type": "code",
   "execution_count": null,
   "metadata": {},
   "outputs": [],
   "source": [
    "fe14.intensityRatio(wvlRange=[210.,220.], top = 5)"
   ]
  },
  {
   "cell_type": "markdown",
   "metadata": {},
   "source": [
    "Spectrum of a single ion\n",
    "========================"
   ]
  },
  {
   "cell_type": "code",
   "execution_count": null,
   "metadata": {},
   "outputs": [],
   "source": [
    "temp = 10.**(5.8 + 0.05*np.arange(21.))\n",
    "edens = 1.e+9"
   ]
  },
  {
   "cell_type": "code",
   "execution_count": null,
   "metadata": {},
   "outputs": [],
   "source": [
    "fe14 = ch.ion('fe_14', temperature = 2.e+6, eDensity = edens, em=1.e+27)"
   ]
  },
  {
   "cell_type": "code",
   "execution_count": null,
   "metadata": {},
   "outputs": [],
   "source": [
    "wvl = 200. + 0.125*np.arange(801)\n",
    "fe14.spectrum(wvl)"
   ]
  },
  {
   "cell_type": "code",
   "execution_count": null,
   "metadata": {},
   "outputs": [],
   "source": [
    "plt.figure()\n",
    "plt.plot(wvl, fe14.Spectrum['intensity'])\n",
    "xy = plt.axis()\n",
    "xy"
   ]
  },
  {
   "cell_type": "markdown",
   "metadata": {},
   "source": [
    "## or with the newer object scheme"
   ]
  },
  {
   "cell_type": "code",
   "execution_count": null,
   "metadata": {},
   "outputs": [],
   "source": [
    "fig, ax = plt.subplots(tight_layout = True)\n",
    "ax.plot(wvl, fe14.Spectrum['intensity'], lw = 2)\n",
    "ax.set_ylim(bottom = 0.)"
   ]
  },
  {
   "cell_type": "code",
   "execution_count": null,
   "metadata": {},
   "outputs": [],
   "source": [
    "plt.axis([200., 300., 0., 400.])\n",
    "plt.xlabel(fe14.Spectrum['xlabel'], fontsize=14)\n",
    "plt.ylabel(fe14.Spectrum['ylabel'], fontsize=14)\n",
    "plt.tight_layout()"
   ]
  },
  {
   "cell_type": "markdown",
   "metadata": {},
   "source": [
    "this calculates the spectrum of fe_14 over the specified wavelength range and filter it with the default filter which is a gaussian (filters.gaussianR) with a ‘resolving power’ of 1000 which gives a gaussian width of wvl/1000.  Other filters available in chianti.filters include a boxcar filter and a gaussian filter where the gaussian width can be specified directly\n",
    "\n",
    "the units of the vertical axis is erg cm$^{-2}$ s$^{-1}$ sr$^{-1}$ $\\mathring A$$^{-1}$ since the value of the emission measure **em** has been specified"
   ]
  },
  {
   "cell_type": "code",
   "execution_count": null,
   "metadata": {},
   "outputs": [],
   "source": [
    "if hasattr(fe14,'Em'):\n",
    "    print(' Emission Measure = %12.2e'%(fe14.Em[0]))\n",
    "else:\n",
    "    print(' the value for the emission measure is unspecified')"
   ]
  },
  {
   "cell_type": "code",
   "execution_count": null,
   "metadata": {},
   "outputs": [],
   "source": [
    "fe14.spectrum(wvl,filter=(chfilters.gaussian,.4))"
   ]
  },
  {
   "cell_type": "markdown",
   "metadata": {},
   "source": [
    "calculates the spectrum of fe_14 for a gaussian filter with a width of 0.4 Angstroms.  The current value of the spectrum is kept in fe14.Spectrum with the following keys:"
   ]
  },
  {
   "cell_type": "code",
   "execution_count": null,
   "metadata": {},
   "outputs": [],
   "source": [
    "for akey in sorted(fe14.Spectrum.keys()):\n",
    "    print(' %10s'%(akey))"
   ]
  },
  {
   "cell_type": "code",
   "execution_count": null,
   "metadata": {},
   "outputs": [],
   "source": [
    "if hasattr(fe14,'Em'):\n",
    "    print(' Emission Measure = %12.2e'%(fe14.Em[0]))\n",
    "else:\n",
    "    print(' the value for the emission measure is unspecified')"
   ]
  },
  {
   "cell_type": "markdown",
   "metadata": {},
   "source": [
    "### Here, the previously value of the emission measure has been used"
   ]
  },
  {
   "cell_type": "code",
   "execution_count": null,
   "metadata": {},
   "outputs": [],
   "source": [
    "plt.figure()\n",
    "plt.plot(wvl,fe14.Spectrum['intensity'])\n",
    "plt.xlabel(fe14.Spectrum['xlabel'], fontsize=14)\n",
    "plt.ylabel(fe14.Spectrum['ylabel'], fontsize=14)"
   ]
  },
  {
   "cell_type": "code",
   "execution_count": null,
   "metadata": {},
   "outputs": [],
   "source": [
    "xy = plt.axis()\n",
    "xy"
   ]
  },
  {
   "cell_type": "code",
   "execution_count": null,
   "metadata": {},
   "outputs": [],
   "source": [
    "plt.axis([wvl[0], wvl[-1], 0., 250.])\n",
    "plt.tight_layout()"
   ]
  },
  {
   "cell_type": "markdown",
   "metadata": {},
   "source": [
    "### As of **ChiantiPy 0.14.0**, the **ion** class inherits the spectrumPlot method."
   ]
  },
  {
   "cell_type": "code",
   "execution_count": null,
   "metadata": {},
   "outputs": [],
   "source": [
    "wvlRange = [wvl[0], wvl[-1]]\n",
    "fe14.spectrumPlot(wvlRange=wvlRange)"
   ]
  },
  {
   "cell_type": "markdown",
   "metadata": {},
   "source": [
    "## also in 0.14.0 is the saveData method"
   ]
  },
  {
   "cell_type": "code",
   "execution_count": null,
   "metadata": {},
   "outputs": [],
   "source": [
    "saveName = 'fe14_save.pkl'"
   ]
  },
  {
   "cell_type": "code",
   "execution_count": null,
   "metadata": {},
   "outputs": [],
   "source": [
    "fe14.saveData(saveName, verbose=True)"
   ]
  },
  {
   "cell_type": "markdown",
   "metadata": {},
   "source": [
    "the attributes are saved as a dict and saved as a pickle file"
   ]
  },
  {
   "cell_type": "code",
   "execution_count": null,
   "metadata": {},
   "outputs": [],
   "source": [
    "with open(saveName,'rb') as inpt:\n",
    "    fe14Dict = pickle.load(inpt)"
   ]
  },
  {
   "cell_type": "code",
   "execution_count": null,
   "metadata": {},
   "outputs": [],
   "source": [
    "for akey in fe14Dict:\n",
    "    print(' key = %s'%(akey))"
   ]
  },
  {
   "cell_type": "code",
   "execution_count": null,
   "metadata": {},
   "outputs": [],
   "source": [
    "for akey in fe14Dict['Spectrum']:\n",
    "    print(' key = %s'%(akey))"
   ]
  },
  {
   "cell_type": "code",
   "execution_count": null,
   "metadata": {},
   "outputs": [],
   "source": [
    "plt.figure()\n",
    "plt.plot(fe14Dict['Spectrum']['wavelength'], fe14Dict['Spectrum']['integrated'])"
   ]
  },
  {
   "cell_type": "markdown",
   "metadata": {},
   "source": [
    "it is possible to work directly with the saved data"
   ]
  },
  {
   "cell_type": "markdown",
   "metadata": {},
   "source": [
    "## Using emission measures (EM)"
   ]
  },
  {
   "cell_type": "markdown",
   "metadata": {},
   "source": [
    "Beginning with CHIANTI version 10, a new directory, em, as been added to contain emission measure files."
   ]
  },
  {
   "cell_type": "markdown",
   "metadata": {},
   "source": [
    "## the line-of-sight emission measure is give by\n",
    "\n",
    "$$\n",
    "  \\large{\\int \\, n_e \\, n_H \\, dl \\, ({cm}^{-5})}\n",
    "$$\n",
    "\n",
    "## and the volumetric emission measure is given by\n",
    "\n",
    "$$\n",
    "  \\large{\\int \\, n_e \\, n_H \\, dV \\,( cm^{-3})}\n",
    "$$\n",
    "\n",
    "### where the integration is over the source region"
   ]
  },
  {
   "cell_type": "code",
   "execution_count": null,
   "metadata": {},
   "outputs": [],
   "source": [
    "emDir = os.path.join(os.environ['XUVTOP'], 'em')"
   ]
  },
  {
   "cell_type": "code",
   "execution_count": null,
   "metadata": {},
   "outputs": [],
   "source": [
    "emList = os.listdir(emDir)"
   ]
  },
  {
   "cell_type": "code",
   "execution_count": null,
   "metadata": {},
   "outputs": [],
   "source": [
    "for idx, emFile in enumerate(emList):\n",
    "    print('%i  %s'%(idx, emFile))"
   ]
  },
  {
   "cell_type": "markdown",
   "metadata": {},
   "source": [
    "at this time, there only 2 files available and we can pick the active region file"
   ]
  },
  {
   "cell_type": "code",
   "execution_count": null,
   "metadata": {},
   "outputs": [],
   "source": [
    "arDict = chio.emRead(emList[1])"
   ]
  },
  {
   "cell_type": "code",
   "execution_count": null,
   "metadata": {
    "scrolled": true
   },
   "outputs": [],
   "source": [
    "arDict.keys()"
   ]
  },
  {
   "cell_type": "code",
   "execution_count": null,
   "metadata": {},
   "outputs": [],
   "source": [
    "arTemp = arDict['temperature']\n",
    "arDens = arDict['density']\n",
    "arEm = arDict['em']"
   ]
  },
  {
   "cell_type": "code",
   "execution_count": null,
   "metadata": {},
   "outputs": [],
   "source": [
    "for idx, atemp in enumerate(arTemp):\n",
    "    print('%i %10.2e %10.2e %10.2e'%(idx, atemp, arDens[idx], arEm[idx]))"
   ]
  },
  {
   "cell_type": "code",
   "execution_count": null,
   "metadata": {},
   "outputs": [],
   "source": [
    "fe14  = ch.ion('fe_14', arTemp, arDens, em=arEm)"
   ]
  },
  {
   "cell_type": "code",
   "execution_count": null,
   "metadata": {},
   "outputs": [],
   "source": [
    "wvl = np.linspace(200., 300., 10001)"
   ]
  },
  {
   "cell_type": "code",
   "execution_count": null,
   "metadata": {},
   "outputs": [],
   "source": [
    "fe14.spectrum(wvl, filter=(chfilters.gaussian, .03))"
   ]
  },
  {
   "cell_type": "code",
   "execution_count": null,
   "metadata": {},
   "outputs": [],
   "source": [
    "fe14.spectrumPlot(wvlRange=[264., 275.], integrated=True, top=5)"
   ]
  },
  {
   "cell_type": "code",
   "execution_count": null,
   "metadata": {},
   "outputs": [],
   "source": [
    "fe14.spectrumPlot(wvlRange=[210., 220.], index=2, top=5)"
   ]
  },
  {
   "cell_type": "markdown",
   "metadata": {},
   "source": [
    "### with version 0.14.0, there is a new class, redux"
   ]
  },
  {
   "cell_type": "markdown",
   "metadata": {},
   "source": [
    "### with this class, the saved data can be restored and all of the apprpriated inherited methods are available"
   ]
  },
  {
   "cell_type": "code",
   "execution_count": null,
   "metadata": {},
   "outputs": [],
   "source": [
    "rdx = ch.redux(saveName, verbose=True)"
   ]
  },
  {
   "cell_type": "markdown",
   "metadata": {},
   "source": [
    "### the following gives the previous plot"
   ]
  },
  {
   "cell_type": "code",
   "execution_count": null,
   "metadata": {},
   "outputs": [],
   "source": [
    "rdx.spectrumPlot(wvlRange=wvlRange)"
   ]
  },
  {
   "cell_type": "markdown",
   "metadata": {},
   "source": [
    "In ChiantiPy 0.6, the **label** keyword has been added to the ion.spectrum method, and also to the other various spectral classes.  This allows several spectral calculations for different filters to be saved and compared"
   ]
  },
  {
   "cell_type": "code",
   "execution_count": null,
   "metadata": {},
   "outputs": [],
   "source": [
    "temp = 10.**(5.8 + 0.1*np.arange(11.))\n",
    "dens = 1.e+9\n",
    "emeas = np.ones(11, np.float64)*1.e+27"
   ]
  },
  {
   "cell_type": "code",
   "execution_count": null,
   "metadata": {},
   "outputs": [],
   "source": [
    "fe14 = ch.ion('fe_14', temp, dens, em=emeas)"
   ]
  },
  {
   "cell_type": "code",
   "execution_count": null,
   "metadata": {},
   "outputs": [],
   "source": [
    "wvl = 200. + 0.125*np.arange(801)\n",
    "fe14.spectrum(wvl,filter=(chfilters.gaussian,.4),label='.4')\n",
    "fe14.spectrum(wvl,filter=(chfilters.gaussian,1.),label='1.')"
   ]
  },
  {
   "cell_type": "code",
   "execution_count": null,
   "metadata": {},
   "outputs": [],
   "source": [
    "for akey in sorted(fe14.Spectrum.keys()):\n",
    "    print(' %10s'%(akey))"
   ]
  },
  {
   "cell_type": "code",
   "execution_count": null,
   "metadata": {},
   "outputs": [],
   "source": [
    "for akey in sorted(fe14.Spectrum['.4'].keys()):\n",
    "    print(' %10s'%(akey))"
   ]
  },
  {
   "cell_type": "code",
   "execution_count": null,
   "metadata": {},
   "outputs": [],
   "source": [
    "plt.figure()\n",
    "plt.plot(wvl,fe14.Spectrum['.4']['intensity'][5],label='0.4')\n",
    "plt.plot(wvl,fe14.Spectrum['1.']['intensity'][5],'-r', label = '1.0')\n",
    "plt.axis([wvl[0], wvl[-1], 0., 250.])\n",
    "plt.xlabel(fe14.Spectrum['.4']['xlabel'], fontsize=14)\n",
    "plt.ylabel(fe14.Spectrum['.4']['ylabel'], fontsize=14)\n",
    "plt.legend(loc='upper right', fontsize=14)\n",
    "plt.tight_layout()"
   ]
  },
  {
   "cell_type": "markdown",
   "metadata": {},
   "source": [
    "Free-free and free-bound continuum\n",
    "==================================\n",
    "\n",
    "The module continuum provides the ability to calculate the free-free, free-bound continuum spectrum for a large number of individual ions.  The two-photon continuum is produced only by the hydrogen-like and helium-like ions"
   ]
  },
  {
   "cell_type": "code",
   "execution_count": null,
   "metadata": {},
   "outputs": [],
   "source": [
    "myIon = 'fe_25'"
   ]
  },
  {
   "cell_type": "code",
   "execution_count": null,
   "metadata": {},
   "outputs": [],
   "source": [
    "temperature = [2.e+7, 3.e+7, 6.e+7]\n",
    "density = 1.e+9\n",
    "em = [1.e+27, 1.e+27, 1.e+27]\n",
    "wvl = 0.5 + 0.002*np.arange(4501)"
   ]
  },
  {
   "cell_type": "code",
   "execution_count": null,
   "metadata": {},
   "outputs": [],
   "source": [
    "c = ch.continuum(myIon, temperature = temperature, em=em)\n",
    "c.freeFree(wvl)\n",
    "c.freeBound(wvl)\n",
    "fe25=ch.ion(myIon, temperature, density, em=em)\n",
    "fe25.twoPhoton(wvl)\n",
    "total = c.FreeFree['intensity'] + c.FreeBound['intensity'] + fe25.TwoPhoton['intensity']"
   ]
  },
  {
   "cell_type": "code",
   "execution_count": null,
   "metadata": {},
   "outputs": [],
   "source": [
    "itemp = 1\n",
    "plt.figure()\n",
    "plt.plot(wvl, c.FreeFree['intensity'][itemp],label='ff')\n",
    "plt.plot(wvl, c.FreeBound['intensity'][itemp],label='fb')\n",
    "plt.plot(wvl,fe25.TwoPhoton['intensity'][itemp],label='2 photon')\n",
    "plt.plot(wvl, total[itemp], 'k', label='total')\n",
    "plt.xlabel(c.FreeFree['xlabel'], fontsize=14)\n",
    "plt.ylabel(c.FreeFree['ylabel'], fontsize=14)\n",
    "plt.legend(loc='upper right', fontsize=14)\n",
    "plt.title(' %s  T = %10.2e'%(fe25.IonStr, temperature[itemp]), fontsize=14)\n",
    "plt.ylim(bottom=0.)\n",
    "plt.xlim([0., wvl[-1]])\n",
    "plt.tight_layout()"
   ]
  },
  {
   "cell_type": "code",
   "execution_count": null,
   "metadata": {},
   "outputs": [],
   "source": [
    "myIon = 'o_8'"
   ]
  },
  {
   "cell_type": "code",
   "execution_count": null,
   "metadata": {},
   "outputs": [],
   "source": [
    "temperature = [3.e+6, 6.e+6]\n",
    "density = 1.e+9\n",
    "em = [2.e+27,1.e+27]\n",
    "wvl = 2. + 0.2*np.arange(701)"
   ]
  },
  {
   "cell_type": "code",
   "execution_count": null,
   "metadata": {},
   "outputs": [],
   "source": [
    "c = ch.continuum('o_8', temperature = temperature, em=em)\n",
    "c.freeFree(wvl)\n",
    "c.freeBound(wvl)\n",
    "o8 = ch.ion(myIon, temperature, density, em=em)\n",
    "o8.twoPhoton(wvl)\n",
    "total = c.FreeFree['intensity'] + c.FreeBound['intensity'] + o8.TwoPhoton['intensity']"
   ]
  },
  {
   "cell_type": "code",
   "execution_count": null,
   "metadata": {},
   "outputs": [],
   "source": [
    "itemp = 1\n",
    "plt.figure()\n",
    "plt.plot(wvl, c.FreeFree['intensity'][itemp], label='ff')\n",
    "plt.plot(wvl, c.FreeBound['intensity'][itemp], label='fb')\n",
    "plt.plot(wvl, o8.TwoPhoton['intensity'][itemp], label='2 photon')\n",
    "plt.plot(wvl, total[itemp], 'k', label='total')\n",
    "plt.ylim(bottom=0.)\n",
    "#plt.xlim(left = 0., right= 100.)\n",
    "plt.xlabel(c.FreeFree['xlabel'], fontsize=14)\n",
    "plt.ylabel(c.FreeFree['ylabel'], fontsize=14)\n",
    "plt.title(' %s  T = %10.2e'%(o8.IonStr, temperature[itemp]), fontsize=14)\n",
    "plt.legend(loc='upper right', fontsize=14)\n",
    "plt.tight_layout()"
   ]
  },
  {
   "cell_type": "code",
   "execution_count": null,
   "metadata": {},
   "outputs": [],
   "source": [
    "itemp = 0\n",
    "plt.figure()\n",
    "plt.semilogy(wvl, c.FreeFree['intensity'][itemp],label='ff')\n",
    "plt.semilogy(wvl, c.FreeBound['intensity'][itemp],label='fb')\n",
    "plt.semilogy(wvl,o8.TwoPhoton['intensity'][itemp],label='2 photon')\n",
    "plt.semilogy(wvl, total[itemp], 'k', label='total')\n",
    "plt.ylim(bottom=1.e-4)\n",
    "#plt.xlim(left = 0., right= 100.)\n",
    "plt.xlabel(c.FreeFree['xlabel'], fontsize=14)\n",
    "plt.ylabel(c.FreeFree['ylabel'], fontsize=14)\n",
    "plt.title(' %s  T = %10.2e'%(o8.IonStr, temperature[itemp]), fontsize=14)\n",
    "plt.legend(loc='upper right', fontsize=14)\n",
    "plt.tight_layout()"
   ]
  },
  {
   "cell_type": "markdown",
   "metadata": {},
   "source": [
    "In the continuum calculations, Fe XXV in this case, is the target ion for the free-free calculation. For the free-bound calculation, specified ion is also the target ion. In this case, the radiative recombination spectrum of Fe XXV recombining to form Fe XXIV is returned.  **Note** this will bring up an error message.  Things are probably OK for the present."
   ]
  },
  {
   "cell_type": "code",
   "execution_count": null,
   "metadata": {},
   "outputs": [],
   "source": [
    "for akey in  ChiantiPy.tools.data.Defaults.keys():\n",
    "   print(' %10s - %s'%(akey,ChiantiPy.tools.data.Defaults[akey]))"
   ]
  },
  {
   "cell_type": "markdown",
   "metadata": {},
   "source": [
    "The multi-ion class bunch\n",
    "========================="
   ]
  },
  {
   "cell_type": "markdown",
   "metadata": {},
   "source": [
    "The multi-ion class **bunch** [new in v0.6] inherits a number of the same methods inherited by the ion class, for example *intensityList*, *intensityRatio*, and *intensityRatioSave*. As a short demonstration of its usefulness, Widing and Feldman (1989, ApJ, 344, 1046) used line ratios of Mg VI and Ne VI as diagnostics of elemental abundance variations in the solar atmosphere. For that to be accurate, it is necessary that the lines of the two ions have the same temperature response."
   ]
  },
  {
   "cell_type": "code",
   "execution_count": null,
   "metadata": {},
   "outputs": [],
   "source": [
    "temp = 10.**(5.0+0.1*np.arange(11))\n",
    "bnch=ch.bunch(temp, 1.e+9, wvlRange=[300.,500.], ionList=['ne_6','mg_6'], abundance='unity', em=1.e+27)"
   ]
  },
  {
   "cell_type": "code",
   "execution_count": null,
   "metadata": {},
   "outputs": [],
   "source": [
    "bnch.intensityRatio(wvlRange=[395.,405.],top=6)"
   ]
  },
  {
   "cell_type": "markdown",
   "metadata": {},
   "source": [
    "### there seems to be a significant temperature dependence to the ratio, even though both are formed near 4.e+5 K."
   ]
  },
  {
   "cell_type": "markdown",
   "metadata": {},
   "source": [
    "## the intensityPlot method can also be used with bunch"
   ]
  },
  {
   "cell_type": "code",
   "execution_count": null,
   "metadata": {},
   "outputs": [],
   "source": [
    "bnch.intensityPlot(wvlRange=[398., 404.], index=5, top=7)"
   ]
  },
  {
   "cell_type": "markdown",
   "metadata": {},
   "source": [
    "### with version 0.13.0 it is possible to save multi-ion calculations as a pickle file"
   ]
  },
  {
   "cell_type": "code",
   "execution_count": null,
   "metadata": {},
   "outputs": [],
   "source": [
    "dataName = 'mybunch.pkl'\n",
    "bnch.saveData(dataName, verbose=True)"
   ]
  },
  {
   "cell_type": "markdown",
   "metadata": {},
   "source": [
    "the saveData method creates a dict of all of the attributes of the bnch instance. The pickle file can be loaded an it is possible to work directly with the data."
   ]
  },
  {
   "cell_type": "code",
   "execution_count": null,
   "metadata": {},
   "outputs": [],
   "source": [
    "with open(dataName, 'rb') as inpt:\n",
    "    mybnch = pickle.load(inpt)"
   ]
  },
  {
   "cell_type": "code",
   "execution_count": null,
   "metadata": {},
   "outputs": [],
   "source": [
    "mybnch.keys()"
   ]
  },
  {
   "cell_type": "code",
   "execution_count": null,
   "metadata": {},
   "outputs": [],
   "source": [
    "mybnch['Intensity']['intensity'].shape"
   ]
  },
  {
   "cell_type": "code",
   "execution_count": null,
   "metadata": {},
   "outputs": [],
   "source": [
    "rebnch = ch.redux(dataName, verbose=False)"
   ]
  },
  {
   "cell_type": "code",
   "execution_count": null,
   "metadata": {},
   "outputs": [],
   "source": [
    "rebnch.intensityPlot(index=5, wvlRange=[398., 404.])"
   ]
  },
  {
   "cell_type": "markdown",
   "metadata": {},
   "source": [
    "with verbose set to True, a list of attributes that are saved is printed"
   ]
  },
  {
   "cell_type": "markdown",
   "metadata": {},
   "source": [
    "produces the previous figure"
   ]
  },
  {
   "cell_type": "markdown",
   "metadata": {},
   "source": [
    "### A new keyword argument **keepIons** has been added in v0.6 to the bunch and the 3 spectrum classes."
   ]
  },
  {
   "cell_type": "code",
   "execution_count": null,
   "metadata": {},
   "outputs": [],
   "source": [
    "temp = 10.**(5.0+0.2*np.arange(6))\n",
    "dens = 1.e+9"
   ]
  },
  {
   "cell_type": "code",
   "execution_count": null,
   "metadata": {},
   "outputs": [],
   "source": [
    "dwvl = 0.01\n",
    "nwvl = (406. - 394.)/dwvl\n",
    "wvl = 394. + dwvl*np.arange(nwvl + 1)\n",
    "wvlRange = [wvl.min(), wvl.max()]"
   ]
  },
  {
   "cell_type": "code",
   "execution_count": null,
   "metadata": {},
   "outputs": [],
   "source": [
    "bnch2=ch.bunch(temp, dens, wvlRange=wvlRange, elementList=['ne','mg'], keepIons=True, em=1.e+27)"
   ]
  },
  {
   "cell_type": "markdown",
   "metadata": {},
   "source": [
    "it is also possible to create a spectrum with specified line width."
   ]
  },
  {
   "cell_type": "code",
   "execution_count": null,
   "metadata": {},
   "outputs": [],
   "source": [
    "bnch2.convolve(wvl,filter=(chfilters.gaussian, 5.*dwvl))"
   ]
  },
  {
   "cell_type": "code",
   "execution_count": null,
   "metadata": {},
   "outputs": [],
   "source": [
    "for one in sorted(bnch2.IonInstances.keys()):\n",
    "    print('%s'%(one))"
   ]
  },
  {
   "cell_type": "code",
   "execution_count": null,
   "metadata": {},
   "outputs": [],
   "source": [
    "bnch2.spectrumPlot(integrated=True, doLabel=False)\n",
    "plt.plot(wvl,bnch2.IonInstances['mg_6'].Spectrum['integrated'], 'r', label='mg_6')\n",
    "plt.xlim(left=398., right=404.)\n",
    "plt.legend(loc='upper left', fontsize=14)"
   ]
  },
  {
   "cell_type": "code",
   "execution_count": null,
   "metadata": {},
   "outputs": [],
   "source": [
    "bnch2.spectrumPlot(top=7)"
   ]
  },
  {
   "cell_type": "markdown",
   "metadata": {},
   "source": [
    "Spectra of multiple ions and continuum\n",
    "======================================"
   ]
  },
  {
   "cell_type": "markdown",
   "metadata": {},
   "source": [
    "The spectrum for a selection of all of the ions in the CHIANTI database can also be calculated. There are 3 spectral classes.\n",
    "\n",
    "1.  spectrum - the single processor implementation that can be used anywhere\n",
    "2.  mspectrum - uses the Python multiprocessing class and **cannot** be used in a IPython qtconsole or notebook\n",
    "3.  ipymspectrum [new in v0.6] - uses the IPython parallel class and can be used in a IPython qtconsole or notebook\n",
    "\n",
    "\n",
    "spectrum, mspectrum and ipymspectrum can all be instantiated with the same arguments and keyword arguments.  Most of the examples below use the ipymspectrum class for speed.\n",
    "\n",
    "As of version 0.13.0, it is now possible to save the calculations with the saveData methods, demonstrated with the bunch class above"
   ]
  },
  {
   "cell_type": "markdown",
   "metadata": {},
   "source": [
    "The single processor spectrum class,  this may take a while\n",
    "----------------------------------------------------"
   ]
  },
  {
   "cell_type": "code",
   "execution_count": null,
   "metadata": {},
   "outputs": [],
   "source": [
    "temp = [1.e+6, 2.e+6]\n",
    "dens = 1.e+9\n",
    "wvl = 200. + 0.05*np.arange(2001)\n",
    "emeasure = [1.e+27 ,1.e+27]"
   ]
  },
  {
   "cell_type": "code",
   "execution_count": null,
   "metadata": {},
   "outputs": [],
   "source": [
    "s = ch.spectrum(temp, dens, wvl, filter = (chfilters.gaussian,.2), em = emeasure, doContinuum = False, minAbund=1.e-5)"
   ]
  },
  {
   "cell_type": "code",
   "execution_count": null,
   "metadata": {},
   "outputs": [],
   "source": [
    "plt.figure()\n",
    "plt.subplot(311)\n",
    "plt.plot(wvl, s.Spectrum['integrated'])\n",
    "plt.ylim(bottom=0.)\n",
    "plt.title('integrated')\n",
    "plt.subplot(312)\n",
    "plt.plot(wvl, s.Spectrum['intensity'][0])\n",
    "plt.ylim(bottom=0.)\n",
    "plt.subplot(313)\n",
    "plt.plot(wvl, s.Spectrum['intensity'][1])\n",
    "plt.ylim(bottom=0.)"
   ]
  },
  {
   "cell_type": "markdown",
   "metadata": {},
   "source": [
    "### using the matplotlib object scheme"
   ]
  },
  {
   "cell_type": "code",
   "execution_count": null,
   "metadata": {},
   "outputs": [],
   "source": [
    "fig, ax = plt.subplots(ncols = 1, nrows = 3, tight_layout = True)\n",
    "ax[0].plot(wvl, s.Spectrum['integrated'], lw = 2)\n",
    "ax[0].set_ylim(bottom = 0.)\n",
    "ax[0].set_title('Integrated')\n",
    "ax[1].plot(wvl, s.Spectrum['intensity'][0], lw = 2)\n",
    "ax[1].set_ylim(bottom = 0.)\n",
    "ax[2].plot(wvl, s.Spectrum['intensity'][1], lw = 2)\n",
    "ax[2].set_ylim(bottom = 0.)"
   ]
  },
  {
   "cell_type": "markdown",
   "metadata": {},
   "source": [
    "### some adjustments are probably needed to get a proper figure"
   ]
  },
  {
   "cell_type": "markdown",
   "metadata": {},
   "source": [
    "### save the calculations"
   ]
  },
  {
   "cell_type": "code",
   "execution_count": null,
   "metadata": {},
   "outputs": [],
   "source": [
    "saveName = 'spectrum.pkl'"
   ]
  },
  {
   "cell_type": "code",
   "execution_count": null,
   "metadata": {},
   "outputs": [],
   "source": [
    "s.saveData(saveName, verbose=True)"
   ]
  },
  {
   "cell_type": "code",
   "execution_count": null,
   "metadata": {},
   "outputs": [],
   "source": [
    "s.spectrumPlot(integrated=True)"
   ]
  },
  {
   "cell_type": "markdown",
   "metadata": {},
   "source": [
    "## one can return to the saved data and reload it with the redux class"
   ]
  },
  {
   "cell_type": "code",
   "execution_count": null,
   "metadata": {},
   "outputs": [],
   "source": [
    "rdx = ch.redux(saveName)"
   ]
  },
  {
   "cell_type": "code",
   "execution_count": null,
   "metadata": {},
   "outputs": [],
   "source": [
    "rdx.spectrumPlot(index=1)"
   ]
  },
  {
   "cell_type": "markdown",
   "metadata": {},
   "source": [
    "The multiple processor mspectrum class\n",
    "-----------------------------------------------------------"
   ]
  },
  {
   "cell_type": "markdown",
   "metadata": {},
   "source": [
    "### the class uses the Python multiprocessing module"
   ]
  },
  {
   "cell_type": "code",
   "execution_count": null,
   "metadata": {},
   "outputs": [],
   "source": [
    "temp = [1.e+7, 2.e+7, 3.e+7]\n",
    "dens = 1.e+9\n",
    "wvl = np.linspace(1.5, 4., 10001)\n",
    "emeasure = 1.e+27"
   ]
  },
  {
   "cell_type": "code",
   "execution_count": null,
   "metadata": {},
   "outputs": [],
   "source": [
    "dwvl = wvl[1] - wvl[0]\n",
    "' dwvl:  %8.4f'%(dwvl)"
   ]
  },
  {
   "cell_type": "code",
   "execution_count": null,
   "metadata": {},
   "outputs": [],
   "source": [
    "core = 4"
   ]
  },
  {
   "cell_type": "code",
   "execution_count": null,
   "metadata": {},
   "outputs": [],
   "source": [
    "sm = ch.mspectrum(temp, dens, wvl, filter = (chfilters.gaussian,5.*dwvl), em = emeasure, doContinuum=False,\n",
    "                  minAbund=1.e-5, proc=core)"
   ]
  },
  {
   "cell_type": "code",
   "execution_count": null,
   "metadata": {},
   "outputs": [],
   "source": [
    "sm.spectrumPlot(wvlRange=[1.84, 1.88], integrated=True)"
   ]
  },
  {
   "cell_type": "markdown",
   "metadata": {},
   "source": [
    "### save the calculations"
   ]
  },
  {
   "cell_type": "code",
   "execution_count": null,
   "metadata": {},
   "outputs": [],
   "source": [
    "saveName = 'mspectrum.pkl'"
   ]
  },
  {
   "cell_type": "code",
   "execution_count": null,
   "metadata": {},
   "outputs": [],
   "source": [
    "sm.saveData(saveName, verbose=True)"
   ]
  },
  {
   "cell_type": "code",
   "execution_count": null,
   "metadata": {},
   "outputs": [],
   "source": [
    "sm.spectrumPlot(wvlRange=[1.84, 1.88], index=2)"
   ]
  },
  {
   "cell_type": "markdown",
   "metadata": {},
   "source": [
    "## another example"
   ]
  },
  {
   "cell_type": "markdown",
   "metadata": {},
   "source": [
    "## Using differential emission measures (DEM)"
   ]
  },
  {
   "cell_type": "markdown",
   "metadata": {},
   "source": [
    "Beginning with CHIANTI version 14, the io.demRead function has been added\n",
    "to read dem file in the existing XUVTOP/dem directory"
   ]
  },
  {
   "cell_type": "code",
   "execution_count": null,
   "metadata": {},
   "outputs": [],
   "source": [
    "demDir = os.path.join(os.environ['XUVTOP'], 'dem')"
   ]
  },
  {
   "cell_type": "code",
   "execution_count": null,
   "metadata": {},
   "outputs": [],
   "source": [
    "demList = os.listdir(demDir)"
   ]
  },
  {
   "cell_type": "code",
   "execution_count": null,
   "metadata": {},
   "outputs": [],
   "source": [
    "for idx, demFile in enumerate(demList):\n",
    "    print('%i  %s'%(idx, demFile))"
   ]
  },
  {
   "cell_type": "markdown",
   "metadata": {},
   "source": [
    "select the desired file by index"
   ]
  },
  {
   "cell_type": "code",
   "execution_count": null,
   "metadata": {},
   "outputs": [],
   "source": [
    "flDict = chio.demRead(demList[3])"
   ]
  },
  {
   "cell_type": "code",
   "execution_count": null,
   "metadata": {
    "scrolled": true
   },
   "outputs": [],
   "source": [
    "flDict.keys()"
   ]
  },
  {
   "cell_type": "markdown",
   "metadata": {},
   "source": [
    "since we will be looking at X-ray wavelengths, select only the highest temperatures"
   ]
  },
  {
   "cell_type": "code",
   "execution_count": null,
   "metadata": {},
   "outputs": [],
   "source": [
    "flTemp = flDict['temperature'][20:]\n",
    "flDens = flDict['density'][20:]\n",
    "flEm = flDict['em'][20:]"
   ]
  },
  {
   "cell_type": "code",
   "execution_count": null,
   "metadata": {},
   "outputs": [],
   "source": [
    "for idx, atemp in enumerate(flTemp):\n",
    "    print('%3i %10.2e %10.2e %10.2e'%(idx, atemp, flDens[idx], flEm[idx]))"
   ]
  },
  {
   "cell_type": "code",
   "execution_count": null,
   "metadata": {},
   "outputs": [],
   "source": [
    "flDict['ref']"
   ]
  },
  {
   "cell_type": "code",
   "execution_count": null,
   "metadata": {},
   "outputs": [],
   "source": [
    "wvl = 1. + 0.002*np.arange(4501)"
   ]
  },
  {
   "cell_type": "code",
   "execution_count": null,
   "metadata": {},
   "outputs": [],
   "source": [
    "core = 4"
   ]
  },
  {
   "cell_type": "code",
   "execution_count": null,
   "metadata": {},
   "outputs": [],
   "source": [
    "s3 = ch.mspectrum(flTemp, flDens, wvl, filter = (chfilters.gaussian,.015),doContinuum=1, em=flEm, minAbund=1.e-5,\n",
    "                  verbose=0, proc=core)"
   ]
  },
  {
   "cell_type": "markdown",
   "metadata": {},
   "source": [
    "### save the calculations"
   ]
  },
  {
   "cell_type": "code",
   "execution_count": null,
   "metadata": {},
   "outputs": [],
   "source": [
    "saveName = 'mspectrum3_dem.pkl'"
   ]
  },
  {
   "cell_type": "code",
   "execution_count": null,
   "metadata": {},
   "outputs": [],
   "source": [
    "s3.saveData(saveName, verbose=True)"
   ]
  },
  {
   "cell_type": "code",
   "execution_count": null,
   "metadata": {},
   "outputs": [],
   "source": [
    "plt.figure()\n",
    "plt.plot(wvl, s3.Spectrum['intensity'].sum(axis=0))\n",
    "plt.xlabel(s3.Spectrum['xlabel'], fontsize=14)\n",
    "plt.ylabel(s3.Spectrum['ylabel'], fontsize=14)\n",
    "plt.ylim(bottom = 0.)\n",
    "plt.xlim([0., wvl[-1]])\n",
    "plt.tight_layout()"
   ]
  },
  {
   "cell_type": "code",
   "execution_count": null,
   "metadata": {},
   "outputs": [],
   "source": [
    "s3.spectrumPlot(top=6, integrated=True)"
   ]
  },
  {
   "cell_type": "markdown",
   "metadata": {},
   "source": [
    "with doContinuum=1, the continuum can be plotted separately - the default value for doContinuum = True/1"
   ]
  },
  {
   "cell_type": "code",
   "execution_count": null,
   "metadata": {},
   "outputs": [],
   "source": [
    "plt.figure()\n",
    "plt.plot(wvl, s3.FreeFree['intensity'].sum(axis=0), label='FF')\n",
    "plt.plot(wvl, s3.FreeBound['intensity'].sum(axis=0), label='FB')\n",
    "plt.plot(wvl, s3.TwoPhoton['intensity'].sum(axis=0), label='2 Photon')\n",
    "plt.plot(wvl, s3.Continuum['intensity'].sum(axis=0), 'k', label='Total')\n",
    "plt.xlabel(s3.Spectrum['xlabel'], fontsize=14)\n",
    "plt.ylabel(s3.Spectrum['ylabel'], fontsize=14)\n",
    "plt.ylim(bottom = 0.)\n",
    "plt.xlim([0., wvl[-1]])\n",
    "plt.legend(loc='center right', fontsize=14)\n",
    "plt.tight_layout()"
   ]
  },
  {
   "cell_type": "code",
   "execution_count": null,
   "metadata": {},
   "outputs": [],
   "source": [
    "s3.spectrumPlot(wvlRange=[4., 9.], top=6, integrated=True)"
   ]
  },
  {
   "cell_type": "markdown",
   "metadata": {},
   "source": [
    "### with the redux class, the save calculations can be restored"
   ]
  },
  {
   "cell_type": "code",
   "execution_count": null,
   "metadata": {},
   "outputs": [],
   "source": [
    "s3r = ch.redux(saveName, verbose=True)"
   ]
  },
  {
   "cell_type": "markdown",
   "metadata": {},
   "source": [
    "### the redux class inherits the intensityPlot and spectrumPlot methods as well as a few others"
   ]
  },
  {
   "cell_type": "code",
   "execution_count": null,
   "metadata": {},
   "outputs": [],
   "source": [
    "s3r.spectrumPlot(wvlRange=[6., 7.], integrated=True, top=5)"
   ]
  },
  {
   "cell_type": "markdown",
   "metadata": {},
   "source": [
    "The multiple processor ipymspectrum class\n",
    "-----------------------------------------"
   ]
  },
  {
   "cell_type": "markdown",
   "metadata": {},
   "source": [
    "next, we will use the ipymspectrum class.  First, it is necessary to start up the cluster.  In some shell\n",
    "\n",
    "> ipcluster start --n=4\n",
    "\n",
    "this will start 4 engines if you have 4 cores.  It will only start an many engines as there are cores available"
   ]
  },
  {
   "cell_type": "code",
   "execution_count": null,
   "metadata": {},
   "outputs": [],
   "source": [
    "temp = [1.e+6, 2.e+6]\n",
    "dens = 1.e+9\n",
    "wvl = 200. + 0.05*np.arange(2001)\n",
    "emeasure = [1.e+27 ,1.e+27]"
   ]
  },
  {
   "cell_type": "markdown",
   "metadata": {},
   "source": [
    "the following code may raise some RuntimeWarnings like\n",
    "\n",
    "IPython could not determine IPs ..., or \n",
    "\n",
    "Controller appears to be listening on localhost, but not on this machine ...\n",
    "\n",
    "but the code does actually run"
   ]
  },
  {
   "cell_type": "code",
   "execution_count": null,
   "metadata": {},
   "outputs": [],
   "source": [
    "s = ch.ipymspectrum(temp, dens, wvl, filter = (chfilters.gaussian,.2), em = emeasure, doContinuum=0,\n",
    "                    minAbund=1.e-5, verbose=True)"
   ]
  },
  {
   "cell_type": "code",
   "execution_count": null,
   "metadata": {},
   "outputs": [],
   "source": [
    "plt.figure()\n",
    "plt.plot(wvl, s.Spectrum['integrated'])\n",
    "plt.ylim(bottom=0.)\n",
    "plt.xlim([wvl[0], wvl[-1]])\n",
    "plt.title('Integrated')\n",
    "plt.xlabel(s.Spectrum['xlabel'], fontsize=14)\n",
    "plt.ylabel(s.Spectrum['ylabel'], fontsize=14)\n",
    "plt.tight_layout()"
   ]
  },
  {
   "cell_type": "markdown",
   "metadata": {},
   "source": [
    "Using a 4 core processor running at about 3.5 GHz:\n",
    "* For a minAbund of 1.e-4, the spectra of 25 ions were calculated in 68 s. On a single processor it took 118 s.\n",
    "* For a minAbund of 1.e-5, then the spectra of 100 ions would be calculated in 72 s. The previous example with the single processor spectrum class took about  129 s on the same computer.\n",
    "* For a minAbund of 1.e-6, then the spectra of 170 ions would be calculated in 90 s.  On a single processor it took 183 s.\n",
    "\n",
    "Using only 3 cores:\n",
    "* For a minAbund of 1.e-5, then the spectra of 100 ions would be calculated in 73 s.\n",
    "\n",
    "Using only 2 cores:\n",
    "* For a minAbund of 1.e-5, then the spectra of 100 ions would be calculated in 88 s.\n",
    "\n",
    "Using only 1 core, with ch.spectrum:\n",
    "* For a minAbund of 1.e-5, then the spectra of 100 ions would be calculated in 133 s."
   ]
  },
  {
   "cell_type": "markdown",
   "metadata": {},
   "source": [
    "[New in version 0.6] One can also use a different abundance file than the default by specifying the abundanceName keyword. For example, abundanceName = ‘cosmic_1973_allen.abund’. If the specified file is not found in XUVTOP/abundance, then a widget will pop up and one can select the abundance file from a list.\n",
    "\n",
    "It is also possible to specify a selection of ions by means of the ionList keyword, for example, ionList=[‘fe_11’,’fe_12’,’fe_13’] or with the elementList keyword, for example, elementList=[‘mg’,’si’]\n"
   ]
  },
  {
   "cell_type": "code",
   "execution_count": null,
   "metadata": {},
   "outputs": [],
   "source": [
    "s2 = ch.ipymspectrum(temp, dens, wvl, filter = (chfilters.gaussian,.2), em = emeasure,\n",
    "                     doContinuum=0, keepIons=1, elementList=['si'])"
   ]
  },
  {
   "cell_type": "markdown",
   "metadata": {},
   "source": [
    "Because **keepIons** has been set, the ion instances of all of the ions are maintained in the s2.IonInstances dictionary. It has been possible to compare the spectrum of all of the ions with the spectrum of a single ion."
   ]
  },
  {
   "cell_type": "code",
   "execution_count": null,
   "metadata": {},
   "outputs": [],
   "source": [
    "fig, [ax1, ax2] = plt.subplots(2,1)\n",
    "ax1.plot(wvl,s2.Spectrum['intensity'][0])\n",
    "ax1.set_ylim(bottom=0.)\n",
    "ax1.set_xlim([wvl[0], wvl[-1]])\n",
    "ax1.set_ylabel(r'erg cm$^{-2}$ s$^{-1}$ sr$^{-1} \\AA^{-1}$', fontsize=14)\n",
    "ax2.plot(wvl,s2.IonInstances['si_9'].Spectrum['intensity'][0])\n",
    "ax2.set_ylim(bottom=0.)\n",
    "ax1.set_xlim([wvl[0], wvl[-1]])\n",
    "ax2.set_ylabel(r'erg cm$^{-2}$ s$^{-1}$ sr$^{-1} \\AA^{-1}$', fontsize=14)\n",
    "ax2.set_xlabel(r'Wavelength ($\\AA$)', fontsize=14)\n",
    "ax2.set_title('Si IX', fontsize=14)\n",
    "fig.tight_layout()"
   ]
  },
  {
   "cell_type": "code",
   "execution_count": null,
   "metadata": {},
   "outputs": [],
   "source": [
    "temp = 1.e+7\n",
    "dens = 1.e+9\n",
    "wvl = 10. + 0.005*np.arange(2001)"
   ]
  },
  {
   "cell_type": "code",
   "execution_count": null,
   "metadata": {},
   "outputs": [],
   "source": [
    "s0 = ch.ipymspectrum(temp, dens, wvl, filter = (chfilters.gaussian,.015), elementList=['fe'], em=1.e+27)"
   ]
  },
  {
   "cell_type": "code",
   "execution_count": null,
   "metadata": {},
   "outputs": [],
   "source": [
    "s0.spectrumPlot(wvlRange=[12., 18.])"
   ]
  },
  {
   "cell_type": "code",
   "execution_count": null,
   "metadata": {},
   "outputs": [],
   "source": [
    "temp=2.e+7\n",
    "dens=1.e+9\n",
    "wvl = 1. + 0.002*np.arange(4501)\n",
    "s = ch.ipymspectrum(temp, dens, wvl, filter = (chfilters.gaussian,.015),doContinuum=1,\n",
    "                    em=1.e+27,minAbund=1.e-5,verbose=0)\n",
    "plt.plot(wvl, s3.Spectrum['intensity'])"
   ]
  },
  {
   "cell_type": "code",
   "execution_count": null,
   "metadata": {},
   "outputs": [],
   "source": [
    "temp=5.e+6\n",
    "dens=1.e+9\n",
    "dwvl = .005\n",
    "nwvl = (50. - 1.)/dwvl\n",
    "wvl=1. + dwvl*np.arange(nwvl+1)"
   ]
  },
  {
   "cell_type": "markdown",
   "metadata": {},
   "source": [
    "by setting abundanceName to 1, a widget with a list of possible abundance sets will pop up and allow you to select one.  Alternative, you can set abundanceName to the name of one of the abundance file (without the .abund suffix) and it will use that set."
   ]
  },
  {
   "cell_type": "code",
   "execution_count": null,
   "metadata": {},
   "outputs": [],
   "source": [
    "s3 = ch.ipymspectrum(temp, dens, wvl, filter = (chfilters.gaussian,5.*dwvl),doContinuum=1, em=1.e+40,minAbund=1.e-5)\n",
    "plt.figure()\n",
    "plt.plot(wvl, s3.Spectrum['intensity'])"
   ]
  },
  {
   "cell_type": "code",
   "execution_count": null,
   "metadata": {},
   "outputs": [],
   "source": [
    "print(' number of ions calculated %i '%(len(s3.IonsCalculated)))"
   ]
  },
  {
   "cell_type": "code",
   "execution_count": null,
   "metadata": {},
   "outputs": [],
   "source": [
    "s3.spectrumPlot()"
   ]
  },
  {
   "cell_type": "markdown",
   "metadata": {},
   "source": [
    "Since the continuum was calculated, it can be plotted separately"
   ]
  },
  {
   "cell_type": "code",
   "execution_count": null,
   "metadata": {},
   "outputs": [],
   "source": [
    "plt.figure()\n",
    "plt.plot(wvl, s3.FreeFree['intensity'],label='FF')\n",
    "plt.plot(wvl, s3.FreeBound['intensity'],label = 'FB')\n",
    "plt.plot(wvl, s3.TwoPhoton['intensity'], label = 'TP')\n",
    "plt.plot(wvl,s3.FreeBound['intensity']+s3.FreeFree['intensity']+s3.TwoPhoton['intensity'],label='FF+FB+TP')\n",
    "plt.legend(loc='upper right')"
   ]
  },
  {
   "cell_type": "code",
   "execution_count": null,
   "metadata": {},
   "outputs": [],
   "source": [
    "temperature = 2.e+7\n",
    "density = 1.e+9\n",
    "em = 1.e+27\n",
    "wvl = 1.84 + 0.0001*np.arange(601)\n",
    "s4 = ch.ipymspectrum(temperature, density ,wvl, filter = (chfilters.gaussian,.0003), em=em, minAbund=1.e-5,verbose=0)"
   ]
  },
  {
   "cell_type": "code",
   "execution_count": null,
   "metadata": {
    "scrolled": true
   },
   "outputs": [],
   "source": [
    "s4.spectrumPlot(wvlRange=[1.845, 1.88])"
   ]
  },
  {
   "cell_type": "markdown",
   "metadata": {},
   "source": [
    "# Radiative loss rate"
   ]
  },
  {
   "cell_type": "code",
   "execution_count": null,
   "metadata": {},
   "outputs": [],
   "source": [
    "temp = 10.**(4.+0.05*np.arange(81))\n",
    "dens = 1.e+9\n",
    "rl = ch.radLoss(temp, dens, elementList=['h', 'he'])"
   ]
  },
  {
   "cell_type": "code",
   "execution_count": null,
   "metadata": {},
   "outputs": [],
   "source": [
    "plt.figure()\n",
    "rl.radLossPlot()"
   ]
  },
  {
   "cell_type": "markdown",
   "metadata": {},
   "source": [
    "### save the data"
   ]
  },
  {
   "cell_type": "code",
   "execution_count": null,
   "metadata": {},
   "outputs": [],
   "source": [
    "saveName = 'rl_h_he.pkl'"
   ]
  },
  {
   "cell_type": "code",
   "execution_count": null,
   "metadata": {},
   "outputs": [],
   "source": [
    "rl.saveData(saveName)"
   ]
  },
  {
   "cell_type": "markdown",
   "metadata": {},
   "source": [
    "### with version 0.15.0, the class mradLoss is available for doing a multiprocessor calculation\n",
    "### of the radiation loss"
   ]
  },
  {
   "cell_type": "code",
   "execution_count": null,
   "metadata": {},
   "outputs": [],
   "source": [
    "temp = 10.**(4.+0.05*np.arange(81))\n",
    "dens = 1.e+9"
   ]
  },
  {
   "cell_type": "markdown",
   "metadata": {},
   "source": [
    "the following will calculate the radiation loss for elements with an abundance greater the 1.e-5 that of the hydrogen abundance.  In this case the default abundance file is for photospheric abundances"
   ]
  },
  {
   "cell_type": "code",
   "execution_count": null,
   "metadata": {},
   "outputs": [],
   "source": [
    "mrl = ch.mradLoss(temp, dens, minAbund = 1.e-5)"
   ]
  },
  {
   "cell_type": "markdown",
   "metadata": {},
   "source": [
    "## save the calculations"
   ]
  },
  {
   "cell_type": "code",
   "execution_count": null,
   "metadata": {},
   "outputs": [],
   "source": [
    "saveNamePhot = 'rl_phot_1m5.pkl'"
   ]
  },
  {
   "cell_type": "code",
   "execution_count": null,
   "metadata": {},
   "outputs": [],
   "source": [
    "mrl.saveData(saveNamePhot)"
   ]
  },
  {
   "cell_type": "code",
   "execution_count": null,
   "metadata": {},
   "outputs": [],
   "source": [
    "plt.figure()\n",
    "mrl.radLossPlot()"
   ]
  },
  {
   "cell_type": "markdown",
   "metadata": {},
   "source": [
    "### the radiative losses are stored in the dictionary rl.RadLoss"
   ]
  },
  {
   "cell_type": "code",
   "execution_count": null,
   "metadata": {},
   "outputs": [],
   "source": [
    "for akey in sorted(mrl.RadLoss.keys()):\n",
    "    print(' %s '%(akey))"
   ]
  },
  {
   "cell_type": "markdown",
   "metadata": {},
   "source": [
    "### it is also possible to set the keyword argument **abundancedName** to use different sets of abundances"
   ]
  },
  {
   "cell_type": "code",
   "execution_count": null,
   "metadata": {},
   "outputs": [],
   "source": [
    "abundDir = os.path.join(os.environ['XUVTOP'], 'abundance')"
   ]
  },
  {
   "cell_type": "code",
   "execution_count": null,
   "metadata": {},
   "outputs": [],
   "source": [
    "abundList = os.listdir(abundDir)"
   ]
  },
  {
   "cell_type": "code",
   "execution_count": null,
   "metadata": {},
   "outputs": [],
   "source": [
    "for idx, aname in enumerate(abundList):\n",
    "    print('%5i  %s'%(idx, aname))"
   ]
  },
  {
   "cell_type": "markdown",
   "metadata": {},
   "source": [
    "### to select coronal abundances"
   ]
  },
  {
   "cell_type": "code",
   "execution_count": null,
   "metadata": {},
   "outputs": [],
   "source": [
    "cdx = 2"
   ]
  },
  {
   "cell_type": "code",
   "execution_count": null,
   "metadata": {},
   "outputs": [],
   "source": [
    "myAbund = abundList[cdx]"
   ]
  },
  {
   "cell_type": "code",
   "execution_count": null,
   "metadata": {},
   "outputs": [],
   "source": [
    "mrl2 = ch.mradLoss(temp, dens, abundance=myAbund, minAbund=1.e-5, proc = 4, verbose=1)"
   ]
  },
  {
   "cell_type": "code",
   "execution_count": null,
   "metadata": {},
   "outputs": [],
   "source": [
    "saveNameCoronal = 'rl_coronal_1m5.pkl'"
   ]
  },
  {
   "cell_type": "code",
   "execution_count": null,
   "metadata": {},
   "outputs": [],
   "source": [
    "mrl2.saveData(saveNameCoronal)"
   ]
  },
  {
   "cell_type": "code",
   "execution_count": null,
   "metadata": {},
   "outputs": [],
   "source": [
    "plt.figure()\n",
    "mrl2.radLossPlot()"
   ]
  },
  {
   "cell_type": "markdown",
   "metadata": {},
   "source": [
    "### this took 1550s on a relatively slow 6 core processor"
   ]
  },
  {
   "cell_type": "code",
   "execution_count": null,
   "metadata": {},
   "outputs": [],
   "source": [
    "plt.figure()\n",
    "plt.loglog(temp, mrl2.RadLoss['rate'], 'k', label='Total')\n",
    "plt.loglog(temp, mrl2.BoundBoundLoss, label = 'BB')\n",
    "plt.loglog(temp, mrl2.FreeFreeLoss, label = 'FF')\n",
    "plt.loglog(temp, mrl2.FreeBoundLoss, label = 'FB')\n",
    "plt.loglog(temp, mrl2.TwoPhotonLoss, label = '2P')\n",
    "plt.xlabel(mrl2.RadLoss['xlabel'], fontsize=14)\n",
    "plt.ylabel(mrl2.RadLoss['ylabel'], fontsize=14)\n",
    "plt.legend(loc='lower center', fontsize=14)\n",
    "plt.tight_layout()"
   ]
  },
  {
   "cell_type": "markdown",
   "metadata": {},
   "source": [
    "### to compare photospheric and coronal radiation losses"
   ]
  },
  {
   "cell_type": "code",
   "execution_count": null,
   "metadata": {},
   "outputs": [],
   "source": [
    "rlph = ch.redux(saveNamePhot)"
   ]
  },
  {
   "cell_type": "code",
   "execution_count": null,
   "metadata": {},
   "outputs": [],
   "source": [
    "rlco = ch.redux(saveNameCoronal)"
   ]
  },
  {
   "cell_type": "code",
   "execution_count": null,
   "metadata": {},
   "outputs": [],
   "source": [
    "plt.figure()\n",
    "plt.loglog(temp, rlph.RadLoss['rate'], label='Phot')\n",
    "plt.loglog(temp, rlco.RadLoss['rate'], label='Coronal')\n",
    "plt.ylim(bottom=1.e-23, top=2.e-21)\n",
    "plt.xlabel(rlph.RadLoss['xlabel'], fontsize=14)\n",
    "plt.ylabel(rlph.RadLoss['ylabel'], fontsize=14)\n",
    "plt.legend(loc='lower center', fontsize=14)\n",
    "plt.tight_layout()"
   ]
  },
  {
   "cell_type": "code",
   "execution_count": null,
   "metadata": {},
   "outputs": [],
   "source": []
  }
 ],
 "metadata": {
  "kernelspec": {
   "display_name": "Python 3.13 (ipykernel)",
   "language": "python",
   "name": "python3.13"
  },
  "language_info": {
   "codemirror_mode": {
    "name": "ipython",
    "version": 3
   },
   "file_extension": ".py",
   "mimetype": "text/x-python",
   "name": "python",
   "nbconvert_exporter": "python",
   "pygments_lexer": "ipython3",
   "version": "3.13.2"
  },
  "varInspector": {
   "cols": {
    "lenName": 16,
    "lenType": 16,
    "lenVar": 40
   },
   "kernels_config": {
    "python": {
     "delete_cmd_postfix": "",
     "delete_cmd_prefix": "del ",
     "library": "var_list.py",
     "varRefreshCmd": "print(var_dic_list())"
    },
    "r": {
     "delete_cmd_postfix": ") ",
     "delete_cmd_prefix": "rm(",
     "library": "var_list.r",
     "varRefreshCmd": "cat(var_dic_list()) "
    }
   },
   "types_to_exclude": [
    "module",
    "function",
    "builtin_function_or_method",
    "instance",
    "_Feature"
   ],
   "window_display": false
  }
 },
 "nbformat": 4,
 "nbformat_minor": 4
}
