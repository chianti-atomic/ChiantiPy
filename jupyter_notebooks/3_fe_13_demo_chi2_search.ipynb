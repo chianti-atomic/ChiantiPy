{
 "cells": [
  {
   "cell_type": "markdown",
   "metadata": {},
   "source": [
    "#  Table 2  1993 QS fe_13 data\n",
    "\n",
    "#  perform a brute-force chi-squared minimization and analyze the \n",
    "\n",
    "# search data"
   ]
  },
  {
   "cell_type": "code",
   "execution_count": null,
   "metadata": {},
   "outputs": [],
   "source": [
    "import os\n",
    "import json\n",
    "import pickle\n",
    "import fnmatch\n",
    "import matplotlib.pyplot as plt\n",
    "import numpy as np\n",
    "from scipy import stats\n",
    "import ChiantiPy.tools.util as chutil\n",
    "import ChiantiPy.model.Maker as mm\n",
    "import ChiantiPy.Gui as chGui"
   ]
  },
  {
   "cell_type": "code",
   "execution_count": null,
   "metadata": {},
   "outputs": [],
   "source": [
    "%autoreload 3"
   ]
  },
  {
   "cell_type": "code",
   "execution_count": null,
   "metadata": {},
   "outputs": [],
   "source": [
    "matplotlib qt"
   ]
  },
  {
   "cell_type": "code",
   "execution_count": null,
   "metadata": {},
   "outputs": [],
   "source": [
    "pwd"
   ]
  },
  {
   "cell_type": "code",
   "execution_count": null,
   "metadata": {},
   "outputs": [],
   "source": [
    "ourDir = os.getcwd()"
   ]
  },
  {
   "cell_type": "code",
   "execution_count": null,
   "metadata": {},
   "outputs": [],
   "source": [
    "ourDir"
   ]
  },
  {
   "cell_type": "code",
   "execution_count": null,
   "metadata": {},
   "outputs": [],
   "source": [
    "myIon = 'fe_13'"
   ]
  },
  {
   "cell_type": "code",
   "execution_count": null,
   "metadata": {},
   "outputs": [],
   "source": [
    "nameDict = chutil.convertName(myIon)"
   ]
  },
  {
   "cell_type": "code",
   "execution_count": null,
   "metadata": {},
   "outputs": [],
   "source": [
    "nameDict.keys()"
   ]
  },
  {
   "cell_type": "code",
   "execution_count": null,
   "metadata": {},
   "outputs": [],
   "source": [
    "nameDict['spectroscopic']"
   ]
  },
  {
   "cell_type": "code",
   "execution_count": null,
   "metadata": {},
   "outputs": [],
   "source": [
    "nameDict['experimental']"
   ]
  },
  {
   "cell_type": "code",
   "execution_count": null,
   "metadata": {},
   "outputs": [],
   "source": [
    "ls"
   ]
  },
  {
   "cell_type": "code",
   "execution_count": null,
   "metadata": {},
   "outputs": [],
   "source": [
    "dirList = os.listdir(ourDir)"
   ]
  },
  {
   "cell_type": "code",
   "execution_count": null,
   "metadata": {},
   "outputs": [],
   "source": [
    "len(dirList)"
   ]
  },
  {
   "cell_type": "code",
   "execution_count": null,
   "metadata": {},
   "outputs": [],
   "source": [
    "jsonList = []\n",
    "for fname in dirList:\n",
    "    if fnmatch.fnmatch(fname, '*.json'):\n",
    "        jsonList.append(fname)"
   ]
  },
  {
   "cell_type": "code",
   "execution_count": null,
   "metadata": {},
   "outputs": [],
   "source": [
    "for idx, fname in enumerate(jsonList):\n",
    "    print('idx:  %i  fname:  %s'%(idx, fname))"
   ]
  },
  {
   "cell_type": "markdown",
   "metadata": {},
   "source": [
    "## fe_13 intensities are in the .json file"
   ]
  },
  {
   "cell_type": "code",
   "execution_count": null,
   "metadata": {},
   "outputs": [],
   "source": [
    "jsonName = jsonList[0]"
   ]
  },
  {
   "cell_type": "code",
   "execution_count": null,
   "metadata": {},
   "outputs": [],
   "source": [
    "with open(jsonName, 'r') as inpt:\n",
    "    specData = json.load(inpt)"
   ]
  },
  {
   "cell_type": "code",
   "execution_count": null,
   "metadata": {},
   "outputs": [],
   "source": [
    "specData['ref']"
   ]
  },
  {
   "cell_type": "code",
   "execution_count": null,
   "metadata": {},
   "outputs": [],
   "source": [
    "specData.keys()"
   ]
  },
  {
   "cell_type": "markdown",
   "metadata": {},
   "source": [
    "## in notebook #1, created the 'match' pickle file"
   ]
  },
  {
   "cell_type": "code",
   "execution_count": null,
   "metadata": {},
   "outputs": [],
   "source": [
    "wghtFactor = 0.2"
   ]
  },
  {
   "cell_type": "code",
   "execution_count": null,
   "metadata": {},
   "outputs": [],
   "source": [
    "box = mm.maker(specData, wghtFactor=wghtFactor, verbose = True)"
   ]
  },
  {
   "cell_type": "markdown",
   "metadata": {},
   "source": [
    "## the match pickle file is tab2_1993_qs_fe_13_match.pkl"
   ]
  },
  {
   "cell_type": "code",
   "execution_count": null,
   "metadata": {},
   "outputs": [],
   "source": [
    "pklList = []\n",
    "for fname in dirList:\n",
    "    if fnmatch.fnmatch(fname, '*.pkl'):\n",
    "        pklList.append(fname)"
   ]
  },
  {
   "cell_type": "code",
   "execution_count": null,
   "metadata": {},
   "outputs": [],
   "source": [
    "for idx, fname in enumerate(pklList):\n",
    "    print('idx:  %i  fname:  %s'%(idx, fname))"
   ]
  },
  {
   "cell_type": "code",
   "execution_count": null,
   "metadata": {},
   "outputs": [],
   "source": [
    "matchName = pklList[0]"
   ]
  },
  {
   "cell_type": "code",
   "execution_count": null,
   "metadata": {},
   "outputs": [],
   "source": [
    "matchName"
   ]
  },
  {
   "cell_type": "code",
   "execution_count": null,
   "metadata": {},
   "outputs": [],
   "source": [
    "box.loadMatch(matchName)"
   ]
  },
  {
   "cell_type": "code",
   "execution_count": null,
   "metadata": {},
   "outputs": [],
   "source": [
    "plt.figure()\n",
    "box.emPlot(vs='d')\n",
    "plt.text(1.e+7, 3.e+26, nameDict['spectroscopic'], horizontalalignment='center', fontsize=16)\n",
    "plt.xlabel('Electron Density (cm$^{-3}$)', fontsize=14)\n",
    "plt.ylabel('Emissin Measure (cm$^{-5}$)', fontsize=14)\n",
    "plt.tight_layout()"
   ]
  },
  {
   "cell_type": "code",
   "execution_count": null,
   "metadata": {},
   "outputs": [],
   "source": [
    "print(' # of density values %5i'%(box.EDensity.size))"
   ]
  },
  {
   "cell_type": "markdown",
   "metadata": {},
   "source": [
    "## from the plot, a density of 7.e+8  and an em of 1.e+27 is estimated"
   ]
  },
  {
   "cell_type": "code",
   "execution_count": null,
   "metadata": {},
   "outputs": [],
   "source": [
    "Dindex = np.argmin(np.abs(box.EDensity - 7.e+8))\n",
    "' Dindex = %5i'%(Dindex)"
   ]
  },
  {
   "cell_type": "code",
   "execution_count": null,
   "metadata": {},
   "outputs": [],
   "source": [
    "box.emSetIndices(Dindex)\n",
    "print('density set to %10.2e'%(box.EDensity[Dindex]))"
   ]
  },
  {
   "cell_type": "code",
   "execution_count": null,
   "metadata": {},
   "outputs": [],
   "source": [
    "em = 1.e+27\n",
    "emLog = np.log10(em)\n",
    "' em  %10.2e  emLog %10.2f'%(em, emLog)"
   ]
  },
  {
   "cell_type": "code",
   "execution_count": null,
   "metadata": {},
   "outputs": [],
   "source": [
    "box.emSet(emLog)"
   ]
  },
  {
   "cell_type": "markdown",
   "metadata": {},
   "source": [
    "## can reset the WghtFactor"
   ]
  },
  {
   "cell_type": "code",
   "execution_count": null,
   "metadata": {},
   "outputs": [],
   "source": [
    "box.WghtFactor"
   ]
  },
  {
   "cell_type": "code",
   "execution_count": null,
   "metadata": {},
   "outputs": [],
   "source": [
    "box.WghtFactor = 0.2"
   ]
  },
  {
   "cell_type": "code",
   "execution_count": null,
   "metadata": {},
   "outputs": [],
   "source": [
    "box.predict()"
   ]
  },
  {
   "cell_type": "code",
   "execution_count": null,
   "metadata": {},
   "outputs": [],
   "source": [
    "box.predictPrint(filename='tab2_fe_13_priorPredictPrint.txt')"
   ]
  },
  {
   "cell_type": "markdown",
   "metadata": {},
   "source": [
    "## brute force search of 1D density space\n",
    "\n",
    "## if the searchData has already been pickled, it can be reloaded and the search skipped"
   ]
  },
  {
   "cell_type": "code",
   "execution_count": null,
   "metadata": {},
   "outputs": [],
   "source": [
    "box.search1dSpace(emLog, verbose=1)"
   ]
  },
  {
   "cell_type": "markdown",
   "metadata": {},
   "source": [
    "## pickle the box with search data"
   ]
  },
  {
   "cell_type": "code",
   "execution_count": null,
   "metadata": {},
   "outputs": [],
   "source": [
    "box.SearchData.keys()"
   ]
  },
  {
   "cell_type": "code",
   "execution_count": null,
   "metadata": {},
   "outputs": [],
   "source": [
    "box.SearchData['best'].keys()"
   ]
  },
  {
   "cell_type": "code",
   "execution_count": null,
   "metadata": {},
   "outputs": [],
   "source": [
    "searchDataFile = os.path.splitext(matchName)[0] + '_1dsearch.pkl'"
   ]
  },
  {
   "cell_type": "code",
   "execution_count": null,
   "metadata": {},
   "outputs": [],
   "source": [
    "searchDataFile"
   ]
  },
  {
   "cell_type": "code",
   "execution_count": null,
   "metadata": {},
   "outputs": [],
   "source": [
    "box.saveSearchData(searchDataFile)"
   ]
  },
  {
   "cell_type": "code",
   "execution_count": null,
   "metadata": {},
   "outputs": [],
   "source": [
    "ls"
   ]
  },
  {
   "cell_type": "markdown",
   "metadata": {},
   "source": [
    "## have created a pickle of the searchData dict"
   ]
  },
  {
   "cell_type": "markdown",
   "metadata": {},
   "source": [
    "## open the pickled search data"
   ]
  },
  {
   "cell_type": "code",
   "execution_count": null,
   "metadata": {},
   "outputs": [],
   "source": [
    "mydir = os.getcwd()\n",
    "mylist = os.listdir('.')\n",
    "newlist = fnmatch.filter(mylist,'*.pkl')\n",
    "selected = chGui.gui.selectorDialog(newlist,'pick one')"
   ]
  },
  {
   "cell_type": "code",
   "execution_count": null,
   "metadata": {},
   "outputs": [],
   "source": [
    "mypkl = selected.selectedText[0]"
   ]
  },
  {
   "cell_type": "code",
   "execution_count": null,
   "metadata": {},
   "outputs": [],
   "source": [
    "print(mypkl)"
   ]
  },
  {
   "cell_type": "code",
   "execution_count": null,
   "metadata": {},
   "outputs": [],
   "source": [
    "with open(mypkl, 'rb') as inpt:\n",
    "    searchData = pickle.load(inpt)"
   ]
  },
  {
   "cell_type": "markdown",
   "metadata": {},
   "source": [
    "## to reload the searchData into the box class - needed for predictPrint"
   ]
  },
  {
   "cell_type": "markdown",
   "metadata": {},
   "source": [
    "## can recontinue or restart analysis"
   ]
  },
  {
   "cell_type": "code",
   "execution_count": null,
   "metadata": {},
   "outputs": [],
   "source": [
    "box.loadSearchData(mypkl)"
   ]
  },
  {
   "cell_type": "markdown",
   "metadata": {},
   "source": [
    "## or just continue here"
   ]
  },
  {
   "cell_type": "code",
   "execution_count": null,
   "metadata": {},
   "outputs": [],
   "source": [
    "Didx = searchData['best']['idx']\n",
    "emLog = searchData['best']['emfit']\n",
    "em = searchData['best']['em']\n",
    "print(' minimum chisq achieved for D index %5i %10.2e and EM %10.3f %10.3e'%(Didx, box.EDensity[Didx],emLog, em))"
   ]
  },
  {
   "cell_type": "code",
   "execution_count": null,
   "metadata": {},
   "outputs": [],
   "source": [
    "searchData.keys()"
   ]
  },
  {
   "cell_type": "code",
   "execution_count": null,
   "metadata": {},
   "outputs": [],
   "source": [
    "searchData['best'].keys()"
   ]
  },
  {
   "cell_type": "code",
   "execution_count": null,
   "metadata": {},
   "outputs": [],
   "source": [
    "'Chisq  %10.2f  reduced Chisq = %10.2f '%(searchData['best']['chisq'], searchData['best']['reducedChisq'])"
   ]
  },
  {
   "cell_type": "code",
   "execution_count": null,
   "metadata": {},
   "outputs": [],
   "source": [
    "minChisq = searchData['best']['chisq']\n",
    "maxChisq = max(searchData['chisq'])\n",
    "' min, max of chisq = %10.2f %10.2f'%(minChisq, maxChisq)"
   ]
  },
  {
   "cell_type": "code",
   "execution_count": null,
   "metadata": {},
   "outputs": [],
   "source": [
    "box.Nparams"
   ]
  },
  {
   "cell_type": "code",
   "execution_count": null,
   "metadata": {},
   "outputs": [],
   "source": [
    "nObs = len(box.Match)\n",
    "dof = nObs - box.Nparams"
   ]
  },
  {
   "cell_type": "code",
   "execution_count": null,
   "metadata": {},
   "outputs": [],
   "source": [
    "' nObs:  %i  nParmas:  %6.1f  degrees of freedom (dof):  %6.1f'%(nObs, box.Nparams, dof)"
   ]
  },
  {
   "cell_type": "code",
   "execution_count": null,
   "metadata": {},
   "outputs": [],
   "source": [
    "q = [.32, 0.05]\n",
    "chi2 = stats.chi2.isf(q = q , df = dof)\n",
    "' Chi2 for confidence levels %10.2f  %10.2f   = %10.2f %10.2f '%(1.-q[0],1.-q[1],chi2[0],chi2[1])"
   ]
  },
  {
   "cell_type": "code",
   "execution_count": null,
   "metadata": {},
   "outputs": [],
   "source": [
    "plt.figure()\n",
    "plt.semilogx(searchData['densSearched'],searchData['chisq'], 'k', lw=2)\n",
    "xy = plt.axis()\n",
    "plt.ylim(0.,xy[3])\n",
    "plt.axhline(minChisq + chi2[0], color = 'r', label='65%')\n",
    "plt.axhline(minChisq + chi2[1], color = 'b', label = '95%')\n",
    "plt.legend(loc='upper center', fontsize=14)\n",
    "plt.xlabel('Electron Density (cm$^{-3}$)',fontsize=14)\n",
    "plt.ylabel('Chi-squared',fontsize=14)\n",
    "plt.tight_layout()"
   ]
  },
  {
   "cell_type": "code",
   "execution_count": null,
   "metadata": {},
   "outputs": [],
   "source": [
    "chisq = np.asarray(searchData['chisq'])"
   ]
  },
  {
   "cell_type": "code",
   "execution_count": null,
   "metadata": {},
   "outputs": [],
   "source": [
    "good0 = chisq < minChisq + chi2[0]"
   ]
  },
  {
   "cell_type": "code",
   "execution_count": null,
   "metadata": {},
   "outputs": [],
   "source": [
    "good1 = chisq < minChisq + chi2[1]"
   ]
  },
  {
   "cell_type": "code",
   "execution_count": null,
   "metadata": {},
   "outputs": [],
   "source": [
    "dens68 = box.EDensity[good0].min(),box.EDensity[good0].max()\n",
    "' mean Density range of  68 per cent confidence:  %10.2e to %10.2e'%(dens68)"
   ]
  },
  {
   "cell_type": "code",
   "execution_count": null,
   "metadata": {},
   "outputs": [],
   "source": [
    "dens95 = box.EDensity[good1].min(),box.EDensity[good1].max()\n",
    "' mean Density range of  95 per cent confidence:  %10.2e to %10.2e'%(dens95)"
   ]
  },
  {
   "cell_type": "code",
   "execution_count": null,
   "metadata": {},
   "outputs": [],
   "source": [
    "densBest = box.EDensity[searchData['best']['idx']]\n",
    "' best fit Density %10.2e'%(densBest)"
   ]
  },
  {
   "cell_type": "code",
   "execution_count": null,
   "metadata": {},
   "outputs": [],
   "source": [
    "em68 = [searchData['em'][good0].min(),searchData['em'][good0].max()]\n",
    "' mean EM range of  68 per cent confidence:  %10.2e to %10.2e '%(em68[0], em68[1])"
   ]
  },
  {
   "cell_type": "code",
   "execution_count": null,
   "metadata": {},
   "outputs": [],
   "source": [
    "em95 = [searchData['em'][good1].min(),searchData['em'][good1].max()]\n",
    "' mean Density range of  95 per cent confidence:  %10.2e to %10.2e'%(em95[0], em95[1])"
   ]
  },
  {
   "cell_type": "code",
   "execution_count": null,
   "metadata": {},
   "outputs": [],
   "source": [
    "plt.figure()\n",
    "box.emPlot(vs='d')\n",
    "xy = plt.axis()\n",
    "plt.axvline(densBest,color='k',lw=2,label='best fit')\n",
    "plt.axvline(dens68[0], color = 'r', linestyle = '--', lw=2, label='68% confidence')\n",
    "plt.axvline(dens68[1], color = 'r', linestyle = '--', lw=2)\n",
    "plt.axvline(dens95[0], color = 'b', linestyle = '--', lw=2, label='95% confidence')\n",
    "plt.axvline(dens95[1], color = 'b', linestyle = '--', lw=2)\n",
    "plt.xlabel('Electron Density (cm$^{-3}$)',fontsize=14)\n",
    "plt.ylabel('Chi-squared',fontsize=14)\n",
    "plt.text(2.e+10,4.e+26, nameDict['spectroscopic'] ,fontsize=16)\n",
    "plt.legend(loc='lower left')\n",
    "plt.tight_layout()\n",
    "plt.show()"
   ]
  },
  {
   "cell_type": "code",
   "execution_count": null,
   "metadata": {},
   "outputs": [],
   "source": [
    "searchData['best']['idx']"
   ]
  },
  {
   "cell_type": "code",
   "execution_count": null,
   "metadata": {},
   "outputs": [],
   "source": [
    "box.emSetIndices(searchData['best']['idx'])\n",
    "print('dens set to %10.2e'%(searchData['best']['idx']))"
   ]
  },
  {
   "cell_type": "code",
   "execution_count": null,
   "metadata": {},
   "outputs": [],
   "source": [
    "searchData['best']['emfit']"
   ]
  },
  {
   "cell_type": "code",
   "execution_count": null,
   "metadata": {},
   "outputs": [],
   "source": [
    "box.emSet(searchData['best']['emfit'])"
   ]
  },
  {
   "cell_type": "code",
   "execution_count": null,
   "metadata": {},
   "outputs": [],
   "source": [
    "box.predict()"
   ]
  },
  {
   "cell_type": "code",
   "execution_count": null,
   "metadata": {},
   "outputs": [],
   "source": [
    "box.predictPrint(minContribution=0.01, filename='tab2_fe_13_postPredictPrint.txt')"
   ]
  },
  {
   "cell_type": "code",
   "execution_count": null,
   "metadata": {},
   "outputs": [],
   "source": [
    "hasattr(box, 'SearchData')"
   ]
  },
  {
   "cell_type": "code",
   "execution_count": null,
   "metadata": {},
   "outputs": [],
   "source": [
    "box.diffPrint(filename='tab2_fe_13_postDiffPrint.txt')"
   ]
  },
  {
   "cell_type": "code",
   "execution_count": null,
   "metadata": {},
   "outputs": [],
   "source": [
    "box.Diff.keys()"
   ]
  },
  {
   "cell_type": "markdown",
   "metadata": {},
   "source": [
    "## write the summary"
   ]
  },
  {
   "cell_type": "code",
   "execution_count": null,
   "metadata": {},
   "outputs": [],
   "source": [
    "summaryFile = os.path.splitext(mypkl)[0] + '_summary.txt'"
   ]
  },
  {
   "cell_type": "code",
   "execution_count": null,
   "metadata": {},
   "outputs": [],
   "source": [
    "summaryFile"
   ]
  },
  {
   "cell_type": "code",
   "execution_count": null,
   "metadata": {},
   "outputs": [],
   "source": [
    "diff = box.Diff\n",
    "with open(summaryFile,'w') as outpt:\n",
    "    outpt.write(' chisq minimum = %10.2e \\n'%(box.SearchData['best']['chisq']))\n",
    "    outpt.write(' reduced chisq minimum = %10.2e \\n'%(box.SearchData['best']['reducedChisq']))\n",
    "    outpt.write(' index         = %5i \\n'%(box.SearchData['best']['idx']))\n",
    "    outpt.write(' log EM        = %10.3e \\n'%(box.SearchData['best']['emfit']))\n",
    "    outpt.write(' EM            = %10.3e \\n'%(10.**box.SearchData['best']['emfit']))\n",
    "    outpt.write(' Density       = %10.3e  \\n'%(box.SearchData['best']['density']))\n",
    "    outpt.write(' mean of diff = %10.3f std = %10.3f \\n'%(np.mean(diff['diff']), np.std(diff['diff'])))"
   ]
  },
  {
   "cell_type": "markdown",
   "metadata": {},
   "source": [
    "### a dict of the summary data"
   ]
  },
  {
   "cell_type": "code",
   "execution_count": null,
   "metadata": {},
   "outputs": [],
   "source": [
    "tab2_fe_13_br = {}\n",
    "tab2_fe_13_br['d'] = {'temp': box.SearchData['best']['temperature']}\n",
    "tab2_fe_13_br['em'] = {'temp': box.SearchData['best']['temperature']}\n",
    "tab2_fe_13_br['d']['ionS'] = 'fe_13'\n",
    "tab2_fe_13_br['em']['ionS'] = 'fe_13'\n",
    "tab2_fe_13_br['d']['best'] = box.SearchData['best']['density']\n",
    "tab2_fe_13_br['d']['mean'] = box.SearchData['best']['density']\n",
    "tab2_fe_13_br['d']['idx'] = box.SearchData['best']['idx']\n",
    "tab2_fe_13_br['d']['68'] = dens68\n",
    "tab2_fe_13_br['d']['95'] = dens95\n",
    "tab2_fe_13_br['em']['best'] = box.SearchData['best']['em']\n",
    "tab2_fe_13_br['em']['mean'] = box.SearchData['best']['em']\n",
    "tab2_fe_13_br['em']['idx'] = box.SearchData['best']['idx']\n",
    "tab2_fe_13_br['em']['68'] = em68\n",
    "tab2_fe_13_br['em']['95'] = em95"
   ]
  },
  {
   "cell_type": "markdown",
   "metadata": {},
   "source": [
    "### pickle summary dict"
   ]
  },
  {
   "cell_type": "code",
   "execution_count": null,
   "metadata": {},
   "outputs": [],
   "source": [
    "with open('tab2_fe_13_br_summary.pkl','wb') as outpt:\n",
    "    pickle.dump(tab2_fe_13_br, outpt)"
   ]
  },
  {
   "cell_type": "code",
   "execution_count": null,
   "metadata": {},
   "outputs": [],
   "source": [
    "with open('tab2_fe_13_br_summary.pkl','rb') as inpt:\n",
    "    tab2_fe_13_br_summary = pickle.load(inpt)"
   ]
  },
  {
   "cell_type": "code",
   "execution_count": null,
   "metadata": {},
   "outputs": [],
   "source": [
    "tab2_fe_13_br_summary.keys()"
   ]
  },
  {
   "cell_type": "code",
   "execution_count": null,
   "metadata": {},
   "outputs": [],
   "source": [
    "tab2_fe_13_br_summary['d'].keys()"
   ]
  },
  {
   "cell_type": "code",
   "execution_count": null,
   "metadata": {},
   "outputs": [],
   "source": [
    "tab2_fe_13_br_summary['em'].keys()"
   ]
  },
  {
   "cell_type": "markdown",
   "metadata": {},
   "source": [
    "## plot the ave, std, errors"
   ]
  },
  {
   "cell_type": "code",
   "execution_count": null,
   "metadata": {},
   "outputs": [],
   "source": [
    "wvl = box.Diff['wvl']\n",
    "diff = box.Diff['diffOverInt']"
   ]
  },
  {
   "cell_type": "code",
   "execution_count": null,
   "metadata": {},
   "outputs": [],
   "source": [
    "diffMean = diff.mean()\n",
    "diffStd = diff.std()"
   ]
  },
  {
   "cell_type": "code",
   "execution_count": null,
   "metadata": {},
   "outputs": [],
   "source": [
    "' diffAve %10.3f  diff Std  %10.3f'%(diffMean, diffStd)"
   ]
  },
  {
   "cell_type": "code",
   "execution_count": null,
   "metadata": {},
   "outputs": [],
   "source": [
    "plt.figure()\n",
    "plt.plot(wvl, diff,'o')"
   ]
  },
  {
   "cell_type": "code",
   "execution_count": null,
   "metadata": {},
   "outputs": [],
   "source": [
    "plt.axhline(diffMean, color='k', lw=2, label='Mean')\n",
    "plt.axhline(diffMean + diffStd, color='r', lw=2, linestyle='--', label='1 std')\n",
    "plt.axhline(diffMean - diffStd, color='r', lw=2, linestyle='--')  #, label='1 std')\n",
    "plt.axhline(diffMean + 2.*diffStd, color='b', lw=2, linestyle='dotted', label='2 std')\n",
    "plt.axhline(diffMean - 2.*diffStd, color='b', lw=2, linestyle='dotted')  #, label='2 std')\n",
    "plt.axhline(diffMean + 3.*diffStd, color='g', lw=2, linestyle='dotted', label='3 std')\n",
    "plt.axhline(diffMean - 3.*diffStd, color='g', lw=2, linestyle='dotted')  #, label='3 std')"
   ]
  },
  {
   "cell_type": "code",
   "execution_count": null,
   "metadata": {},
   "outputs": [],
   "source": [
    "plt.xlabel('Wavelength ($\\AA$)', fontsize=14)\n",
    "plt.ylabel(r'(Obs - Pred)/(w $\\times$ Obs)', fontsize=14)"
   ]
  },
  {
   "cell_type": "code",
   "execution_count": null,
   "metadata": {},
   "outputs": [],
   "source": [
    "plt.title(' mean:  %8.3f  std:  %8.3f wght: %8.3f'%(diffMean, diffStd, wghtFactor), fontsize=14)"
   ]
  },
  {
   "cell_type": "code",
   "execution_count": null,
   "metadata": {},
   "outputs": [],
   "source": [
    "plt.legend(loc='upper right', bbox_to_anchor=(0.99, 1.0), fontsize=12)"
   ]
  },
  {
   "cell_type": "code",
   "execution_count": null,
   "metadata": {},
   "outputs": [],
   "source": [
    "plt.tight_layout()"
   ]
  }
 ],
 "metadata": {
  "kernelspec": {
   "display_name": "Python 3 (ipykernel)",
   "language": "python",
   "name": "python3"
  },
  "language_info": {
   "codemirror_mode": {
    "name": "ipython",
    "version": 3
   },
   "file_extension": ".py",
   "mimetype": "text/x-python",
   "name": "python",
   "nbconvert_exporter": "python",
   "pygments_lexer": "ipython3",
   "version": "3.8.13"
  },
  "varInspector": {
   "cols": {
    "lenName": 16,
    "lenType": 16,
    "lenVar": 40
   },
   "kernels_config": {
    "python": {
     "delete_cmd_postfix": "",
     "delete_cmd_prefix": "del ",
     "library": "var_list.py",
     "varRefreshCmd": "print(var_dic_list())"
    },
    "r": {
     "delete_cmd_postfix": ") ",
     "delete_cmd_prefix": "rm(",
     "library": "var_list.r",
     "varRefreshCmd": "cat(var_dic_list()) "
    }
   },
   "types_to_exclude": [
    "module",
    "function",
    "builtin_function_or_method",
    "instance",
    "_Feature"
   ],
   "window_display": false
  }
 },
 "nbformat": 4,
 "nbformat_minor": 1
}
