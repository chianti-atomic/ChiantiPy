{
 "cells": [
  {
   "cell_type": "markdown",
   "metadata": {},
   "source": [
    "# to make the match for the Table 2 1993 QS fe_13 data"
   ]
  },
  {
   "cell_type": "markdown",
   "metadata": {},
   "source": [
    "## this notebook recreates the basic data used in \n",
    "\n",
    "## Dere, 2020, MNRAS, 496, 2334"
   ]
  },
  {
   "cell_type": "code",
   "execution_count": 1,
   "metadata": {},
   "outputs": [],
   "source": [
    "import json\n",
    "import pickle\n",
    "import fnmatch\n",
    "import matplotlib.pyplot as plt\n",
    "import numpy as np\n",
    "import ChiantiPy.tools.util as chutil\n",
    "import ChiantiPy.model.Maker as mm\n",
    "import ChiantiPy.Gui as chGui"
   ]
  },
  {
   "cell_type": "code",
   "execution_count": 2,
   "metadata": {},
   "outputs": [],
   "source": [
    "%autoreload 3"
   ]
  },
  {
   "cell_type": "code",
   "execution_count": 3,
   "metadata": {},
   "outputs": [],
   "source": [
    "matplotlib qt"
   ]
  },
  {
   "cell_type": "code",
   "execution_count": 4,
   "metadata": {},
   "outputs": [],
   "source": [
    "myIon = 'fe_13'"
   ]
  },
  {
   "cell_type": "code",
   "execution_count": 5,
   "metadata": {},
   "outputs": [],
   "source": [
    "nameDict = chutil.convertName(myIon)"
   ]
  },
  {
   "cell_type": "code",
   "execution_count": 6,
   "metadata": {},
   "outputs": [
    {
     "data": {
      "text/plain": [
       "dict_keys(['Z', 'Ion', 'Dielectronic', 'Element', 'higher', 'lower', 'filename', 'iso', 'isoEl', 'spectroscopic', 'experimental'])"
      ]
     },
     "execution_count": 6,
     "metadata": {},
     "output_type": "execute_result"
    }
   ],
   "source": [
    "nameDict.keys()"
   ]
  },
  {
   "cell_type": "code",
   "execution_count": 7,
   "metadata": {},
   "outputs": [
    {
     "data": {
      "text/plain": [
       "'Fe XIII'"
      ]
     },
     "execution_count": 7,
     "metadata": {},
     "output_type": "execute_result"
    }
   ],
   "source": [
    "nameDict['spectroscopic']"
   ]
  },
  {
   "cell_type": "code",
   "execution_count": 8,
   "metadata": {},
   "outputs": [
    {
     "data": {
      "text/plain": [
       "'Fe 12+'"
      ]
     },
     "execution_count": 8,
     "metadata": {},
     "output_type": "execute_result"
    }
   ],
   "source": [
    "nameDict['experimental']"
   ]
  },
  {
   "cell_type": "code",
   "execution_count": 9,
   "metadata": {},
   "outputs": [
    {
     "name": "stdout",
     "output_type": "stream",
     "text": [
      "\u001b[0m\u001b[00m0.test.notebooks.in.git.dir\u001b[0m\r\n",
      "\u001b[00m1_fe_13_demo_make_match.html\u001b[0m\r\n",
      "\u001b[00m1_fe_13_demo_make_match.ipynb\u001b[0m\r\n",
      "\u001b[00m2_fe_13_demo_check_model.html\u001b[0m\r\n",
      "\u001b[00m2_fe_13_demo_check_model.ipynb\u001b[0m\r\n",
      "\u001b[00m3_fe_13_demo_chi2_search.ipynb\u001b[0m\r\n",
      "\u001b[00m4_fe_13_demo_mcmc.ipynb\u001b[0m\r\n",
      "\u001b[00m5_fe_13_demo_mcmc_trace_analyze.ipynb\u001b[0m\r\n",
      "\u001b[00mfe_13_demo_make_model.html\u001b[0m\r\n",
      "\u001b[00mpredictPrintPrior.txt\u001b[0m\r\n",
      "\u001b[00mresults_2022_March_28_2000_100000.pkl\u001b[0m\r\n",
      "\u001b[00mtab2_1993_qs_fe_13_1dsearch.pkl\u001b[0m\r\n",
      "\u001b[00mtab2_1993_qs_fe_13_1dsearch_summary.txt\u001b[0m\r\n",
      "\u001b[00mtab2_1993_qs_fe_13.json\u001b[0m\r\n",
      "\u001b[00mtab2_1993_qs_fe_13_match.pkl\u001b[0m\r\n",
      "\u001b[00mtab2_1993_qs_fe_13_match_postDiffPrint_2000_100000_2022-03-21_wvl.txt\u001b[0m\r\n",
      "\u001b[00mtab2_1993_qs_fe_13_match_postDiffPrint_2000_100000_2022-03-22_wvl.txt\u001b[0m\r\n",
      "\u001b[00mtab2_1993_qs_fe_13_match_postDiffPrint_2000_100000_2022-03-28_wvl.txt\u001b[0m\r\n",
      "\u001b[00mtab2_1993_qs_fe_13_match_postDiffPrint_2000_100000_2022-03-30_wvl.txt\u001b[0m\r\n",
      "\u001b[00mtab2_1993_qs_fe_13_match_postPredictPrint_2000_100000_2022-03-21_wvl.txt\u001b[0m\r\n",
      "\u001b[00mtab2_1993_qs_fe_13_match_postPredictPrint_2000_100000_2022-03-22_wvl.txt\u001b[0m\r\n",
      "\u001b[00mtab2_1993_qs_fe_13_match_postPredictPrint_2000_100000_2022-03-28_wvl.txt\u001b[0m\r\n",
      "\u001b[00mtab2_1993_qs_fe_13_match_postPredictPrint_2000_100000_2022-03-30_wvl.txt\u001b[0m\r\n",
      "\u001b[00mtab2_fe_13_br_summary.pkl\u001b[0m\r\n",
      "\u001b[00mtab2_fe_13_diffPrintFinal.txt\u001b[0m\r\n",
      "\u001b[00mtab2_fe_13_predictPrintFinal.txt\u001b[0m\r\n",
      "\u001b[00mtab2_fe_13_predictPrintPost.txt\u001b[0m\r\n",
      "\u001b[00mtab2_fe_13_predictPrintPrior.txt\u001b[0m\r\n",
      "\u001b[00mtable2-1993-QS_fe_13_diff_print.txt\u001b[0m\r\n",
      "\u001b[00mtable2-1993-QS_fe_13_predict_print.txt\u001b[0m\r\n",
      "\u001b[00mtable2-1993-QS_fe_13_prior_diff_print.txt\u001b[0m\r\n",
      "\u001b[00mtable2-1993-QS_fe_13_prior_predict_print.txt\u001b[0m\r\n"
     ]
    }
   ],
   "source": [
    "ls"
   ]
  },
  {
   "cell_type": "markdown",
   "metadata": {},
   "source": [
    "## fe_13 intensities are in the .json file"
   ]
  },
  {
   "cell_type": "code",
   "execution_count": 10,
   "metadata": {},
   "outputs": [],
   "source": [
    "with open('tab2_1993_qs_fe_13.json', 'r') as inpt:\n",
    "    specData = json.load(inpt)"
   ]
  },
  {
   "cell_type": "code",
   "execution_count": 11,
   "metadata": {},
   "outputs": [
    {
     "data": {
      "text/plain": [
       "dict_keys(['filename', 'wvl0', 'intensity', 'intStd', 'dwvl', 'ions', 'ref'])"
      ]
     },
     "execution_count": 11,
     "metadata": {},
     "output_type": "execute_result"
    }
   ],
   "source": [
    "specData.keys()"
   ]
  },
  {
   "cell_type": "code",
   "execution_count": 12,
   "metadata": {},
   "outputs": [
    {
     "data": {
      "text/plain": [
       "[0.04, 0.04, 0.04, 0.04, 0.04, 0.04, 0.04, 0.04, 0.04]"
      ]
     },
     "execution_count": 12,
     "metadata": {},
     "output_type": "execute_result"
    }
   ],
   "source": [
    "specData['dwvl']"
   ]
  },
  {
   "cell_type": "markdown",
   "metadata": {},
   "source": [
    "## the model.Maker will match any CHIANTI lines to those in the specData that are with 'dwvl'"
   ]
  },
  {
   "cell_type": "code",
   "execution_count": 13,
   "metadata": {},
   "outputs": [
    {
     "data": {
      "text/plain": [
       "['Brosius, Jeffrey W.; Davila, Joseph M.; Thomas, Roger J.; Monsignori-Fossi, Brunella C.',\n",
       " 'Measuring Active and Quiet-Sun Coronal Plasma Properties with Extreme-Ultraviolet Spectra from SERTS ',\n",
       " '1996, Astrophysical Journal Supplement v.106, p.143',\n",
       " 'ADSref:  https://ui.adsabs.harvard.edu/abs/1996ApJS..106..143B/abstract']"
      ]
     },
     "execution_count": 13,
     "metadata": {},
     "output_type": "execute_result"
    }
   ],
   "source": [
    "specData['ref']"
   ]
  },
  {
   "cell_type": "code",
   "execution_count": 14,
   "metadata": {},
   "outputs": [],
   "source": [
    "temp = 1.78e+6\n",
    "dens  = 10.**(6.+ 0.025*np.arange(241))"
   ]
  },
  {
   "cell_type": "markdown",
   "metadata": {},
   "source": [
    "## chi-squared = sum ((observed -  predicted)/(wghtFactor * observed))^2"
   ]
  },
  {
   "cell_type": "code",
   "execution_count": 15,
   "metadata": {},
   "outputs": [],
   "source": [
    "wghtFactor = 0.2"
   ]
  },
  {
   "cell_type": "code",
   "execution_count": 16,
   "metadata": {},
   "outputs": [
    {
     "name": "stdout",
     "output_type": "stream",
     "text": [
      " XUVTOP = /data2/a2git/chdbase/\n",
      " abundanceName = sun_photospheric_2015_scott\n",
      " minimum abundance =   1.00e+01\n",
      " # of observables / reduce # = 9        3.00\n"
     ]
    }
   ],
   "source": [
    "box = mm.maker(specData, temp, dens, wghtFactor = wghtFactor, ionList=['fe_13'], verbose = True)"
   ]
  },
  {
   "cell_type": "markdown",
   "metadata": {},
   "source": [
    "## the next step matches the observed lines to the CHIANTI lines to within tab['dwvl']\n",
    "\n",
    "## in this demo, only searching for fe_13 matches"
   ]
  },
  {
   "cell_type": "code",
   "execution_count": 17,
   "metadata": {},
   "outputs": [
    {
     "name": "stdout",
     "output_type": "stream",
     "text": [
      " fe_13 in the CHIANTI database\n",
      " in makeMatchGate thision = fe_13\n"
     ]
    }
   ],
   "source": [
    "box.makeMatch(verbose=True)"
   ]
  },
  {
   "cell_type": "markdown",
   "metadata": {},
   "source": [
    "## next, calculate the contribution functions (gofnt) for each line, including any blends\n",
    "\n",
    "## with more ions, the multiprocessing function mgofnt(temp, dens) is faster"
   ]
  },
  {
   "cell_type": "code",
   "execution_count": 18,
   "metadata": {},
   "outputs": [
    {
     "name": "stdout",
     "output_type": "stream",
     "text": [
      " temperature size:    241\n",
      " density     size:    241\n",
      " using fe_13\n",
      " elapsed seconds =       40.000\n"
     ]
    }
   ],
   "source": [
    "box.gofnt(temp, dens, verbose=True)"
   ]
  },
  {
   "cell_type": "markdown",
   "metadata": {},
   "source": [
    "## save the match attribute as a pickle file to be picked on again."
   ]
  },
  {
   "cell_type": "code",
   "execution_count": 19,
   "metadata": {},
   "outputs": [],
   "source": [
    "matchFilename = 'tab2_1993_qs_fe_13_match.pkl'"
   ]
  },
  {
   "cell_type": "code",
   "execution_count": 20,
   "metadata": {},
   "outputs": [
    {
     "name": "stdout",
     "output_type": "stream",
     "text": [
      "NT not available\n"
     ]
    }
   ],
   "source": [
    "box.saveMatch(filename=matchFilename )"
   ]
  },
  {
   "cell_type": "code",
   "execution_count": 21,
   "metadata": {},
   "outputs": [
    {
     "name": "stdout",
     "output_type": "stream",
     "text": [
      "\u001b[0m\u001b[00m0.test.notebooks.in.git.dir\u001b[0m\r\n",
      "\u001b[00m1_fe_13_demo_make_match.html\u001b[0m\r\n",
      "\u001b[00m1_fe_13_demo_make_match.ipynb\u001b[0m\r\n",
      "\u001b[00m2_fe_13_demo_check_model.html\u001b[0m\r\n",
      "\u001b[00m2_fe_13_demo_check_model.ipynb\u001b[0m\r\n",
      "\u001b[00m3_fe_13_demo_chi2_search.ipynb\u001b[0m\r\n",
      "\u001b[00m4_fe_13_demo_mcmc.ipynb\u001b[0m\r\n",
      "\u001b[00m5_fe_13_demo_mcmc_trace_analyze.ipynb\u001b[0m\r\n",
      "\u001b[00mfe_13_demo_make_model.html\u001b[0m\r\n",
      "\u001b[00mpredictPrintPrior.txt\u001b[0m\r\n",
      "\u001b[00mresults_2022_March_28_2000_100000.pkl\u001b[0m\r\n",
      "\u001b[00mtab2_1993_qs_fe_13_1dsearch.pkl\u001b[0m\r\n",
      "\u001b[00mtab2_1993_qs_fe_13_1dsearch_summary.txt\u001b[0m\r\n",
      "\u001b[00mtab2_1993_qs_fe_13.json\u001b[0m\r\n",
      "\u001b[00mtab2_1993_qs_fe_13_match.pkl\u001b[0m\r\n",
      "\u001b[00mtab2_1993_qs_fe_13_match_postDiffPrint_2000_100000_2022-03-21_wvl.txt\u001b[0m\r\n",
      "\u001b[00mtab2_1993_qs_fe_13_match_postDiffPrint_2000_100000_2022-03-22_wvl.txt\u001b[0m\r\n",
      "\u001b[00mtab2_1993_qs_fe_13_match_postDiffPrint_2000_100000_2022-03-28_wvl.txt\u001b[0m\r\n",
      "\u001b[00mtab2_1993_qs_fe_13_match_postDiffPrint_2000_100000_2022-03-30_wvl.txt\u001b[0m\r\n",
      "\u001b[00mtab2_1993_qs_fe_13_match_postPredictPrint_2000_100000_2022-03-21_wvl.txt\u001b[0m\r\n",
      "\u001b[00mtab2_1993_qs_fe_13_match_postPredictPrint_2000_100000_2022-03-22_wvl.txt\u001b[0m\r\n",
      "\u001b[00mtab2_1993_qs_fe_13_match_postPredictPrint_2000_100000_2022-03-28_wvl.txt\u001b[0m\r\n",
      "\u001b[00mtab2_1993_qs_fe_13_match_postPredictPrint_2000_100000_2022-03-30_wvl.txt\u001b[0m\r\n",
      "\u001b[00mtab2_fe_13_br_summary.pkl\u001b[0m\r\n",
      "\u001b[00mtab2_fe_13_diffPrintFinal.txt\u001b[0m\r\n",
      "\u001b[00mtab2_fe_13_predictPrintFinal.txt\u001b[0m\r\n",
      "\u001b[00mtab2_fe_13_predictPrintPost.txt\u001b[0m\r\n",
      "\u001b[00mtab2_fe_13_predictPrintPrior.txt\u001b[0m\r\n",
      "\u001b[00mtable2-1993-QS_fe_13_diff_print.txt\u001b[0m\r\n",
      "\u001b[00mtable2-1993-QS_fe_13_predict_print.txt\u001b[0m\r\n",
      "\u001b[00mtable2-1993-QS_fe_13_prior_diff_print.txt\u001b[0m\r\n",
      "\u001b[00mtable2-1993-QS_fe_13_prior_predict_print.txt\u001b[0m\r\n"
     ]
    }
   ],
   "source": [
    "ls"
   ]
  },
  {
   "cell_type": "markdown",
   "metadata": {},
   "source": [
    "## the next 5 steps if you want to restart without recalculating the match attribute"
   ]
  },
  {
   "cell_type": "markdown",
   "metadata": {},
   "source": [
    "## the pickle file has already been created"
   ]
  },
  {
   "cell_type": "code",
   "execution_count": 22,
   "metadata": {},
   "outputs": [],
   "source": [
    "mydir = os.getcwd()\n",
    "mylist = os.listdir('.')\n",
    "newlist = fnmatch.filter(mylist,'*.pkl')\n",
    "selected = chGui.gui.selectorDialog(newlist,'pick one')"
   ]
  },
  {
   "cell_type": "code",
   "execution_count": 23,
   "metadata": {},
   "outputs": [],
   "source": [
    "mypkl = selected.selectedText[0]"
   ]
  },
  {
   "cell_type": "code",
   "execution_count": 24,
   "metadata": {},
   "outputs": [
    {
     "name": "stdout",
     "output_type": "stream",
     "text": [
      "tab2_1993_qs_fe_13_match.pkl\n"
     ]
    }
   ],
   "source": [
    "print(mypkl)"
   ]
  },
  {
   "cell_type": "code",
   "execution_count": 25,
   "metadata": {},
   "outputs": [],
   "source": [
    "with open(mypkl,'rb') as inpt:\n",
    "    match = pickle.load(inpt)"
   ]
  },
  {
   "cell_type": "code",
   "execution_count": 26,
   "metadata": {},
   "outputs": [
    {
     "data": {
      "text/plain": [
       "dict_keys(['match', 'Temperature', 'EDensity', 'Ndens', 'Ntemp', 'NTempDens', 'MinAbund', 'WghtFactor'])"
      ]
     },
     "execution_count": 26,
     "metadata": {},
     "output_type": "execute_result"
    }
   ],
   "source": [
    "match.keys()"
   ]
  },
  {
   "cell_type": "markdown",
   "metadata": {},
   "source": [
    "## the next two steps if you want to restart without recalculating the match attribute"
   ]
  },
  {
   "cell_type": "code",
   "execution_count": 27,
   "metadata": {},
   "outputs": [
    {
     "name": "stdout",
     "output_type": "stream",
     "text": [
      " XUVTOP = /data2/a2git/chdbase/\n",
      " abundanceName = sun_photospheric_2015_scott\n",
      " minimum abundance =   1.00e+01\n",
      " # of observables / reduce # = 9        3.00\n"
     ]
    }
   ],
   "source": [
    "box = mm.maker(specData)"
   ]
  },
  {
   "cell_type": "code",
   "execution_count": 28,
   "metadata": {},
   "outputs": [
    {
     "name": "stdout",
     "output_type": "stream",
     "text": [
      " EmIndices not in matchDict\n",
      "Em not in matchDict\n",
      "Em not in matchDict\n",
      "NT not in matchDict\n"
     ]
    }
   ],
   "source": [
    "box.loadMatch(mypkl)"
   ]
  },
  {
   "cell_type": "markdown",
   "metadata": {},
   "source": [
    "## can just continue here"
   ]
  },
  {
   "cell_type": "markdown",
   "metadata": {},
   "source": [
    "## plot the contribution functions vs density"
   ]
  },
  {
   "cell_type": "code",
   "execution_count": 29,
   "metadata": {},
   "outputs": [
    {
     "data": {
      "text/plain": [
       "' T:      1.78e+06'"
      ]
     },
     "execution_count": 29,
     "metadata": {},
     "output_type": "execute_result"
    }
   ],
   "source": [
    "temp = box.Temperature\n",
    "' T:  %12.2e'%(temp[0])"
   ]
  },
  {
   "cell_type": "code",
   "execution_count": 30,
   "metadata": {},
   "outputs": [
    {
     "data": {
      "text/plain": [
       "' Ne:      1.00e+06'"
      ]
     },
     "execution_count": 30,
     "metadata": {},
     "output_type": "execute_result"
    }
   ],
   "source": [
    "dens = box.EDensity\n",
    "' Ne:  %12.2e'%(dens[0])"
   ]
  },
  {
   "cell_type": "code",
   "execution_count": 31,
   "metadata": {},
   "outputs": [
    {
     "name": "stdout",
     "output_type": "stream",
     "text": [
      "  9\n"
     ]
    }
   ],
   "source": [
    "nMatches = len(box.Match)\n",
    "print('%3i'%(nMatches))"
   ]
  },
  {
   "cell_type": "markdown",
   "metadata": {},
   "source": [
    "## adjust and lr is just to get a pretty plot"
   ]
  },
  {
   "cell_type": "code",
   "execution_count": 32,
   "metadata": {},
   "outputs": [],
   "source": [
    "adjust = np.ones(nMatches,np.float64)"
   ]
  },
  {
   "cell_type": "markdown",
   "metadata": {},
   "source": [
    "### adjust is an array to multplicatively adjust the heights of the labels"
   ]
  },
  {
   "cell_type": "code",
   "execution_count": 33,
   "metadata": {},
   "outputs": [],
   "source": [
    "adjust[2] = 0.70\n",
    "adjust[3] = 1.05\n",
    "adjust[4] = 0.70\n",
    "adjust[8] = 0.75"
   ]
  },
  {
   "cell_type": "markdown",
   "metadata": {},
   "source": [
    "### lr could be an array of cantaining either 'b', for both, 'n', for none, 'l' for left, 'r', for right"
   ]
  },
  {
   "cell_type": "code",
   "execution_count": 34,
   "metadata": {},
   "outputs": [],
   "source": [
    "lr = ['l','l','l','r','l','r','r','l','r']"
   ]
  },
  {
   "cell_type": "code",
   "execution_count": 35,
   "metadata": {},
   "outputs": [
    {
     "ename": "TypeError",
     "evalue": "not enough arguments for format string",
     "output_type": "error",
     "traceback": [
      "\u001b[0;31m---------------------------------------------------------------------------\u001b[0m",
      "\u001b[0;31mTypeError\u001b[0m                                 Traceback (most recent call last)",
      "Input \u001b[0;32mIn [35]\u001b[0m, in \u001b[0;36m<cell line: 1>\u001b[0;34m()\u001b[0m\n\u001b[0;32m----> 1\u001b[0m \u001b[38;5;28mprint\u001b[39m(\u001b[38;5;124;43m'\u001b[39;49m\u001b[38;5;124;43m len of lr:  \u001b[39;49m\u001b[38;5;132;43;01m%5i\u001b[39;49;00m\u001b[38;5;124;43m needs to be the same as the wavelength list \u001b[39;49m\u001b[38;5;132;43;01m%i\u001b[39;49;00m\u001b[38;5;124;43m'\u001b[39;49m\u001b[38;5;241;43m%\u001b[39;49m\u001b[43m(\u001b[49m\u001b[38;5;28;43mlen\u001b[39;49m\u001b[43m(\u001b[49m\u001b[43mlr\u001b[49m\u001b[43m)\u001b[49m\u001b[43m)\u001b[49m)\n",
      "\u001b[0;31mTypeError\u001b[0m: not enough arguments for format string"
     ]
    }
   ],
   "source": [
    "print(' len of lr:  %5i needs to be the same as the wavelength list %i'%(len(lr), len(specData[''])))"
   ]
  },
  {
   "cell_type": "code",
   "execution_count": null,
   "metadata": {},
   "outputs": [],
   "source": [
    "plt.figure()\n",
    "box.emPlot(vs='d', fs=12, loc='center right', adjust = adjust, position = lr)"
   ]
  },
  {
   "cell_type": "code",
   "execution_count": null,
   "metadata": {},
   "outputs": [],
   "source": [
    "left,right = plt.xlim()\n",
    "bottom, top = plt.ylim()\n",
    "plt.xlim(left, 1.e+14)\n",
    "plt.ylim(bottom, 1.e+28)\n",
    "plt.text(1.e+8, 3.e+26, nameDict['spectroscopic'], fontsize=18)\n",
    "plt.tight_layout()"
   ]
  },
  {
   "cell_type": "markdown",
   "metadata": {},
   "source": [
    "## alternatively, there is a object oriented emPlotObj"
   ]
  },
  {
   "cell_type": "code",
   "execution_count": null,
   "metadata": {},
   "outputs": [],
   "source": [
    "fig, ax = box.emPlotObj(vs='d', fs=12, loc='center right', adjust = adjust, position = lr)"
   ]
  },
  {
   "cell_type": "markdown",
   "metadata": {},
   "source": [
    "## it is possible to continue to adjust things"
   ]
  },
  {
   "cell_type": "code",
   "execution_count": null,
   "metadata": {},
   "outputs": [],
   "source": [
    "ax.set_title('mytitle', fontsize=14)"
   ]
  },
  {
   "cell_type": "code",
   "execution_count": null,
   "metadata": {},
   "outputs": [],
   "source": [
    "fig.tight_layout()"
   ]
  }
 ],
 "metadata": {
  "kernelspec": {
   "display_name": "Python 3 (ipykernel)",
   "language": "python",
   "name": "python3"
  },
  "language_info": {
   "codemirror_mode": {
    "name": "ipython",
    "version": 3
   },
   "file_extension": ".py",
   "mimetype": "text/x-python",
   "name": "python",
   "nbconvert_exporter": "python",
   "pygments_lexer": "ipython3",
   "version": "3.8.13"
  },
  "varInspector": {
   "cols": {
    "lenName": 16,
    "lenType": 16,
    "lenVar": 40
   },
   "kernels_config": {
    "python": {
     "delete_cmd_postfix": "",
     "delete_cmd_prefix": "del ",
     "library": "var_list.py",
     "varRefreshCmd": "print(var_dic_list())"
    },
    "r": {
     "delete_cmd_postfix": ") ",
     "delete_cmd_prefix": "rm(",
     "library": "var_list.r",
     "varRefreshCmd": "cat(var_dic_list()) "
    }
   },
   "types_to_exclude": [
    "module",
    "function",
    "builtin_function_or_method",
    "instance",
    "_Feature"
   ],
   "window_display": false
  }
 },
 "nbformat": 4,
 "nbformat_minor": 1
}
